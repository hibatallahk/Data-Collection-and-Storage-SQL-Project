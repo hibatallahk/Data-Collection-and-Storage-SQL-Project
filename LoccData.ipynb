{
 "cells": [
  {
   "cell_type": "markdown",
   "metadata": {},
   "source": [
    "**Hello Hibatallah!**\n",
    "\n",
    "My name is Alexey Kargin, and I will review your current project. Nice to meet you! I have added all my comments on your new project to cells with different coloring. Please, do not move or delete them - it helps us move faster:\n",
    "\n",
    "<div class=\"alert alert-success\">\n",
    "<b>Reviewer's comment v.1</b> \n",
    "    \n",
    "I am using green color for my comment if everything is done successfully.\n",
    "</div>\n",
    "\n",
    "<div class=\"alert alert-warning\">\n",
    "<b>Reviewer's comment v.1</b> \n",
    "    \n",
    "I will use yellow color for my comment if I can give you a recommendation or think that something can be improved. These are optional recommendations, but it will be perfect if you work with them in this or future projects.\n",
    "</div>\n",
    "\n",
    "<div class=\"alert alert-danger\">\n",
    "<b>Reviewer's comment v.1</b> \n",
    "    \n",
    "I am using red color for my comment if the block requires some extra work or corrections. The project couldn’t be accepted with red comments.\n",
    "</div>\n",
    "  \n",
    "To make a dialog, let’s use this style for your remarks:\n",
    "<div class=\"alert alert-info\"> \n",
    "<b>Student's comment</b> \n",
    "    \n",
    "Just like this. To make a similar block - double click on the block, copy and edit it in places you are changing.\n",
    "</div>\n",
    "\n",
    "Now, let’s go to data analysis!\n",
    "\n",
    "---\n",
    "    \n",
    "<div class=\"alert alert-success\">\n",
    "<b>General feedback v.1</b>\n",
    "    \n",
    "Hibatallah, thank you for sending your project 👋 \n",
    "    \n",
    "You have made a lot of correct steps! This part of the sprint is quite simple, so we should pay more attention to the project's description, presentation of the results, and recommendations for a business. <span class=\"text-danger\"> So I would suggest that there are minor issues. You can find them in the red boxes. </span> I believe you can easily fix it!\n",
    "    \n",
    "   \n",
    "Keep up the good work, and come back soon! \n",
    "    \n",
    "<br>\n",
    "Best regards,\n",
    "<br> Alexey\n",
    "</div>\n",
    "\n",
    "---\n",
    "\n",
    "<div class=\"alert alert-success\">\n",
    "<b>General feedback v.2</b>\n",
    "    \n",
    "Hibatallah, thanks for your quick fixes! Now your project is a true \"A\". Congratulations! I'm glad to say that your project has been accepted. Keep up the good work, and good luck on the next sprint!\n",
    "    \n",
    "Bests, Alex\n",
    "</div>\n",
    "\n",
    "\n",
    "<hr class=\"my-12\" style = \"border: 1px solid #3c763d\"/>"
   ]
  },
  {
   "cell_type": "markdown",
   "metadata": {},
   "source": [
    "# STEP 1 Exploratory data analysis (Python)"
   ]
  },
  {
   "cell_type": "markdown",
   "metadata": {},
   "source": [
    "You now have these two CSVs:\n",
    "\n",
    "`/datasets/project_sql_result_01.csv`\n",
    "\n",
    "It contains the following data:\n",
    "- company_name: taxi company name\n",
    "- trips_amount: the number of rides for each taxi company on November 15-16, 2017.\n",
    "\n",
    "`/datasets/project_sql_result_04.csv`\n",
    "\n",
    "It contains the following data:\n",
    "- dropoff_location_name: Chicago neighborhoods where rides ended\n",
    "- average_trips: the average number of rides that ended in each neighborhood in November 2017.\n",
    "\n",
    "For these two datasets you now need to:"
   ]
  },
  {
   "cell_type": "markdown",
   "metadata": {},
   "source": [
    "1. import the files\n",
    "2. study the data they contain\n",
    "3. make sure the data types are correct\n",
    "4. identify the top 10 neighborhoods in terms of drop-offs\n",
    "5. make graphs: taxi companies and number of rides, top 10 neighborhoods by number of dropoffs\n",
    "6. draw conclusions based on each graph and explain the results"
   ]
  },
  {
   "cell_type": "markdown",
   "metadata": {},
   "source": [
    "<div class=\"alert alert-block alert-success\">\n",
    "<b>Reviewer's comment v.1</b> \n",
    "    \n",
    "✔ Good start with the brief introduction and description of the data! We could also add the table of content within the Introduction part.\n",
    "\n",
    "</div>"
   ]
  },
  {
   "cell_type": "code",
   "execution_count": 1,
   "metadata": {
    "scrolled": true
   },
   "outputs": [
    {
     "name": "stdout",
     "output_type": "stream",
     "text": [
      "Defaulting to user installation because normal site-packages is not writeable\n",
      "Collecting squarify\n",
      "  Downloading squarify-0.4.3-py3-none-any.whl (4.3 kB)\n",
      "Installing collected packages: squarify\n",
      "Successfully installed squarify-0.4.3\n"
     ]
    }
   ],
   "source": [
    "!pip install squarify\n",
    "import squarify\n",
    "import pandas as pd\n",
    "import numpy as np\n",
    "import matplotlib as mpl\n",
    "import matplotlib.pyplot as plt\n",
    "import seaborn as sns\n",
    "from scipy import stats"
   ]
  },
  {
   "cell_type": "markdown",
   "metadata": {},
   "source": [
    "<div class=\"alert alert-block alert-success\">\n",
    "<b>Reviewer's comment v.1</b> \n",
    "    \n",
    "✔ It's a good practice to make all imports in 1st cell! Thank you for taking care of upgrading libraries.\n",
    "</div>"
   ]
  },
  {
   "cell_type": "code",
   "execution_count": 2,
   "metadata": {},
   "outputs": [],
   "source": [
    "def get_precent_of_na_df(df,num):\n",
    "    df_nulls = pd.DataFrame(df.isna().sum(),columns=['Missing Values'])\n",
    "    df_nulls['Percent of Nulls'] = round(df_nulls['Missing Values'] / df.shape[0],num) *100\n",
    "    return df_nulls\n",
    "        \n",
    "\n",
    "def get_info(df,num):\n",
    "    print('Head:')\n",
    "    print()\n",
    "    display(df.head())\n",
    "    print ('-'*100)\n",
    "    print('Info:')\n",
    "    print()\n",
    "    display(df.info())\n",
    "    print ('-'*100)\n",
    "    print('Describe:')\n",
    "    print()\n",
    "    display(df.describe())\n",
    "    print ('-'*100)\n",
    "    display(df.describe(include='object'))\n",
    "    print()\n",
    "    print('Columns with nulls:')\n",
    "    display(get_precent_of_na_df(df,num))\n",
    "    print ('-'*100)\n",
    "    print('Shape:')\n",
    "    print(df.shape)\n",
    "    print ('-'*100)\n",
    "    print('Duplicated:')\n",
    "    print('We have {} duplicated rows!'.format(df.duplicated().sum()))"
   ]
  },
  {
   "cell_type": "code",
   "execution_count": 3,
   "metadata": {},
   "outputs": [],
   "source": [
    "company_name_trips_amount = pd.read_csv('/datasets/project_sql_result_01.csv')\n",
    "\n",
    "dropoff_location_average_trips = pd.read_csv('/datasets/project_sql_result_04.csv')"
   ]
  },
  {
   "cell_type": "code",
   "execution_count": 4,
   "metadata": {
    "scrolled": false
   },
   "outputs": [
    {
     "name": "stdout",
     "output_type": "stream",
     "text": [
      "Head:\n",
      "\n"
     ]
    },
    {
     "data": {
      "text/html": [
       "<div>\n",
       "<style scoped>\n",
       "    .dataframe tbody tr th:only-of-type {\n",
       "        vertical-align: middle;\n",
       "    }\n",
       "\n",
       "    .dataframe tbody tr th {\n",
       "        vertical-align: top;\n",
       "    }\n",
       "\n",
       "    .dataframe thead th {\n",
       "        text-align: right;\n",
       "    }\n",
       "</style>\n",
       "<table border=\"1\" class=\"dataframe\">\n",
       "  <thead>\n",
       "    <tr style=\"text-align: right;\">\n",
       "      <th></th>\n",
       "      <th>company_name</th>\n",
       "      <th>trips_amount</th>\n",
       "    </tr>\n",
       "  </thead>\n",
       "  <tbody>\n",
       "    <tr>\n",
       "      <td>0</td>\n",
       "      <td>Flash Cab</td>\n",
       "      <td>19558</td>\n",
       "    </tr>\n",
       "    <tr>\n",
       "      <td>1</td>\n",
       "      <td>Taxi Affiliation Services</td>\n",
       "      <td>11422</td>\n",
       "    </tr>\n",
       "    <tr>\n",
       "      <td>2</td>\n",
       "      <td>Medallion Leasing</td>\n",
       "      <td>10367</td>\n",
       "    </tr>\n",
       "    <tr>\n",
       "      <td>3</td>\n",
       "      <td>Yellow Cab</td>\n",
       "      <td>9888</td>\n",
       "    </tr>\n",
       "    <tr>\n",
       "      <td>4</td>\n",
       "      <td>Taxi Affiliation Service Yellow</td>\n",
       "      <td>9299</td>\n",
       "    </tr>\n",
       "  </tbody>\n",
       "</table>\n",
       "</div>"
      ],
      "text/plain": [
       "                      company_name  trips_amount\n",
       "0                        Flash Cab         19558\n",
       "1        Taxi Affiliation Services         11422\n",
       "2                Medallion Leasing         10367\n",
       "3                       Yellow Cab          9888\n",
       "4  Taxi Affiliation Service Yellow          9299"
      ]
     },
     "metadata": {},
     "output_type": "display_data"
    },
    {
     "name": "stdout",
     "output_type": "stream",
     "text": [
      "----------------------------------------------------------------------------------------------------\n",
      "Info:\n",
      "\n",
      "<class 'pandas.core.frame.DataFrame'>\n",
      "RangeIndex: 64 entries, 0 to 63\n",
      "Data columns (total 2 columns):\n",
      "company_name    64 non-null object\n",
      "trips_amount    64 non-null int64\n",
      "dtypes: int64(1), object(1)\n",
      "memory usage: 1.1+ KB\n"
     ]
    },
    {
     "data": {
      "text/plain": [
       "None"
      ]
     },
     "metadata": {},
     "output_type": "display_data"
    },
    {
     "name": "stdout",
     "output_type": "stream",
     "text": [
      "----------------------------------------------------------------------------------------------------\n",
      "Describe:\n",
      "\n"
     ]
    },
    {
     "data": {
      "text/html": [
       "<div>\n",
       "<style scoped>\n",
       "    .dataframe tbody tr th:only-of-type {\n",
       "        vertical-align: middle;\n",
       "    }\n",
       "\n",
       "    .dataframe tbody tr th {\n",
       "        vertical-align: top;\n",
       "    }\n",
       "\n",
       "    .dataframe thead th {\n",
       "        text-align: right;\n",
       "    }\n",
       "</style>\n",
       "<table border=\"1\" class=\"dataframe\">\n",
       "  <thead>\n",
       "    <tr style=\"text-align: right;\">\n",
       "      <th></th>\n",
       "      <th>trips_amount</th>\n",
       "    </tr>\n",
       "  </thead>\n",
       "  <tbody>\n",
       "    <tr>\n",
       "      <td>count</td>\n",
       "      <td>64.000000</td>\n",
       "    </tr>\n",
       "    <tr>\n",
       "      <td>mean</td>\n",
       "      <td>2145.484375</td>\n",
       "    </tr>\n",
       "    <tr>\n",
       "      <td>std</td>\n",
       "      <td>3812.310186</td>\n",
       "    </tr>\n",
       "    <tr>\n",
       "      <td>min</td>\n",
       "      <td>2.000000</td>\n",
       "    </tr>\n",
       "    <tr>\n",
       "      <td>25%</td>\n",
       "      <td>20.750000</td>\n",
       "    </tr>\n",
       "    <tr>\n",
       "      <td>50%</td>\n",
       "      <td>178.500000</td>\n",
       "    </tr>\n",
       "    <tr>\n",
       "      <td>75%</td>\n",
       "      <td>2106.500000</td>\n",
       "    </tr>\n",
       "    <tr>\n",
       "      <td>max</td>\n",
       "      <td>19558.000000</td>\n",
       "    </tr>\n",
       "  </tbody>\n",
       "</table>\n",
       "</div>"
      ],
      "text/plain": [
       "       trips_amount\n",
       "count     64.000000\n",
       "mean    2145.484375\n",
       "std     3812.310186\n",
       "min        2.000000\n",
       "25%       20.750000\n",
       "50%      178.500000\n",
       "75%     2106.500000\n",
       "max    19558.000000"
      ]
     },
     "metadata": {},
     "output_type": "display_data"
    },
    {
     "name": "stdout",
     "output_type": "stream",
     "text": [
      "----------------------------------------------------------------------------------------------------\n"
     ]
    },
    {
     "data": {
      "text/html": [
       "<div>\n",
       "<style scoped>\n",
       "    .dataframe tbody tr th:only-of-type {\n",
       "        vertical-align: middle;\n",
       "    }\n",
       "\n",
       "    .dataframe tbody tr th {\n",
       "        vertical-align: top;\n",
       "    }\n",
       "\n",
       "    .dataframe thead th {\n",
       "        text-align: right;\n",
       "    }\n",
       "</style>\n",
       "<table border=\"1\" class=\"dataframe\">\n",
       "  <thead>\n",
       "    <tr style=\"text-align: right;\">\n",
       "      <th></th>\n",
       "      <th>company_name</th>\n",
       "    </tr>\n",
       "  </thead>\n",
       "  <tbody>\n",
       "    <tr>\n",
       "      <td>count</td>\n",
       "      <td>64</td>\n",
       "    </tr>\n",
       "    <tr>\n",
       "      <td>unique</td>\n",
       "      <td>64</td>\n",
       "    </tr>\n",
       "    <tr>\n",
       "      <td>top</td>\n",
       "      <td>2809 - 95474 C &amp; D Cab Co Inc.</td>\n",
       "    </tr>\n",
       "    <tr>\n",
       "      <td>freq</td>\n",
       "      <td>1</td>\n",
       "    </tr>\n",
       "  </tbody>\n",
       "</table>\n",
       "</div>"
      ],
      "text/plain": [
       "                          company_name\n",
       "count                               64\n",
       "unique                              64\n",
       "top     2809 - 95474 C & D Cab Co Inc.\n",
       "freq                                 1"
      ]
     },
     "metadata": {},
     "output_type": "display_data"
    },
    {
     "name": "stdout",
     "output_type": "stream",
     "text": [
      "\n",
      "Columns with nulls:\n"
     ]
    },
    {
     "data": {
      "text/html": [
       "<div>\n",
       "<style scoped>\n",
       "    .dataframe tbody tr th:only-of-type {\n",
       "        vertical-align: middle;\n",
       "    }\n",
       "\n",
       "    .dataframe tbody tr th {\n",
       "        vertical-align: top;\n",
       "    }\n",
       "\n",
       "    .dataframe thead th {\n",
       "        text-align: right;\n",
       "    }\n",
       "</style>\n",
       "<table border=\"1\" class=\"dataframe\">\n",
       "  <thead>\n",
       "    <tr style=\"text-align: right;\">\n",
       "      <th></th>\n",
       "      <th>Missing Values</th>\n",
       "      <th>Percent of Nulls</th>\n",
       "    </tr>\n",
       "  </thead>\n",
       "  <tbody>\n",
       "    <tr>\n",
       "      <td>company_name</td>\n",
       "      <td>0</td>\n",
       "      <td>0.0</td>\n",
       "    </tr>\n",
       "    <tr>\n",
       "      <td>trips_amount</td>\n",
       "      <td>0</td>\n",
       "      <td>0.0</td>\n",
       "    </tr>\n",
       "  </tbody>\n",
       "</table>\n",
       "</div>"
      ],
      "text/plain": [
       "              Missing Values  Percent of Nulls\n",
       "company_name               0               0.0\n",
       "trips_amount               0               0.0"
      ]
     },
     "metadata": {},
     "output_type": "display_data"
    },
    {
     "name": "stdout",
     "output_type": "stream",
     "text": [
      "----------------------------------------------------------------------------------------------------\n",
      "Shape:\n",
      "(64, 2)\n",
      "----------------------------------------------------------------------------------------------------\n",
      "Duplicated:\n",
      "We have 0 duplicated rows!\n"
     ]
    }
   ],
   "source": [
    "get_info(company_name_trips_amount, 4)"
   ]
  },
  {
   "cell_type": "markdown",
   "metadata": {},
   "source": [
    "- The `company_name_trips_amount` table contains the \n",
    "    - `company_name` and\n",
    "    - `trips_amount`: which is the number of rides for each taxi company on November 15-16, 2017. \n",
    "- It has 64 rows of taxi companies."
   ]
  },
  {
   "cell_type": "code",
   "execution_count": 5,
   "metadata": {},
   "outputs": [
    {
     "name": "stdout",
     "output_type": "stream",
     "text": [
      "Head:\n",
      "\n"
     ]
    },
    {
     "data": {
      "text/html": [
       "<div>\n",
       "<style scoped>\n",
       "    .dataframe tbody tr th:only-of-type {\n",
       "        vertical-align: middle;\n",
       "    }\n",
       "\n",
       "    .dataframe tbody tr th {\n",
       "        vertical-align: top;\n",
       "    }\n",
       "\n",
       "    .dataframe thead th {\n",
       "        text-align: right;\n",
       "    }\n",
       "</style>\n",
       "<table border=\"1\" class=\"dataframe\">\n",
       "  <thead>\n",
       "    <tr style=\"text-align: right;\">\n",
       "      <th></th>\n",
       "      <th>dropoff_location_name</th>\n",
       "      <th>average_trips</th>\n",
       "    </tr>\n",
       "  </thead>\n",
       "  <tbody>\n",
       "    <tr>\n",
       "      <td>0</td>\n",
       "      <td>Loop</td>\n",
       "      <td>10727.466667</td>\n",
       "    </tr>\n",
       "    <tr>\n",
       "      <td>1</td>\n",
       "      <td>River North</td>\n",
       "      <td>9523.666667</td>\n",
       "    </tr>\n",
       "    <tr>\n",
       "      <td>2</td>\n",
       "      <td>Streeterville</td>\n",
       "      <td>6664.666667</td>\n",
       "    </tr>\n",
       "    <tr>\n",
       "      <td>3</td>\n",
       "      <td>West Loop</td>\n",
       "      <td>5163.666667</td>\n",
       "    </tr>\n",
       "    <tr>\n",
       "      <td>4</td>\n",
       "      <td>O'Hare</td>\n",
       "      <td>2546.900000</td>\n",
       "    </tr>\n",
       "  </tbody>\n",
       "</table>\n",
       "</div>"
      ],
      "text/plain": [
       "  dropoff_location_name  average_trips\n",
       "0                  Loop   10727.466667\n",
       "1           River North    9523.666667\n",
       "2         Streeterville    6664.666667\n",
       "3             West Loop    5163.666667\n",
       "4                O'Hare    2546.900000"
      ]
     },
     "metadata": {},
     "output_type": "display_data"
    },
    {
     "name": "stdout",
     "output_type": "stream",
     "text": [
      "----------------------------------------------------------------------------------------------------\n",
      "Info:\n",
      "\n",
      "<class 'pandas.core.frame.DataFrame'>\n",
      "RangeIndex: 94 entries, 0 to 93\n",
      "Data columns (total 2 columns):\n",
      "dropoff_location_name    94 non-null object\n",
      "average_trips            94 non-null float64\n",
      "dtypes: float64(1), object(1)\n",
      "memory usage: 1.6+ KB\n"
     ]
    },
    {
     "data": {
      "text/plain": [
       "None"
      ]
     },
     "metadata": {},
     "output_type": "display_data"
    },
    {
     "name": "stdout",
     "output_type": "stream",
     "text": [
      "----------------------------------------------------------------------------------------------------\n",
      "Describe:\n",
      "\n"
     ]
    },
    {
     "data": {
      "text/html": [
       "<div>\n",
       "<style scoped>\n",
       "    .dataframe tbody tr th:only-of-type {\n",
       "        vertical-align: middle;\n",
       "    }\n",
       "\n",
       "    .dataframe tbody tr th {\n",
       "        vertical-align: top;\n",
       "    }\n",
       "\n",
       "    .dataframe thead th {\n",
       "        text-align: right;\n",
       "    }\n",
       "</style>\n",
       "<table border=\"1\" class=\"dataframe\">\n",
       "  <thead>\n",
       "    <tr style=\"text-align: right;\">\n",
       "      <th></th>\n",
       "      <th>average_trips</th>\n",
       "    </tr>\n",
       "  </thead>\n",
       "  <tbody>\n",
       "    <tr>\n",
       "      <td>count</td>\n",
       "      <td>94.000000</td>\n",
       "    </tr>\n",
       "    <tr>\n",
       "      <td>mean</td>\n",
       "      <td>599.953728</td>\n",
       "    </tr>\n",
       "    <tr>\n",
       "      <td>std</td>\n",
       "      <td>1714.591098</td>\n",
       "    </tr>\n",
       "    <tr>\n",
       "      <td>min</td>\n",
       "      <td>1.800000</td>\n",
       "    </tr>\n",
       "    <tr>\n",
       "      <td>25%</td>\n",
       "      <td>14.266667</td>\n",
       "    </tr>\n",
       "    <tr>\n",
       "      <td>50%</td>\n",
       "      <td>52.016667</td>\n",
       "    </tr>\n",
       "    <tr>\n",
       "      <td>75%</td>\n",
       "      <td>298.858333</td>\n",
       "    </tr>\n",
       "    <tr>\n",
       "      <td>max</td>\n",
       "      <td>10727.466667</td>\n",
       "    </tr>\n",
       "  </tbody>\n",
       "</table>\n",
       "</div>"
      ],
      "text/plain": [
       "       average_trips\n",
       "count      94.000000\n",
       "mean      599.953728\n",
       "std      1714.591098\n",
       "min         1.800000\n",
       "25%        14.266667\n",
       "50%        52.016667\n",
       "75%       298.858333\n",
       "max     10727.466667"
      ]
     },
     "metadata": {},
     "output_type": "display_data"
    },
    {
     "name": "stdout",
     "output_type": "stream",
     "text": [
      "----------------------------------------------------------------------------------------------------\n"
     ]
    },
    {
     "data": {
      "text/html": [
       "<div>\n",
       "<style scoped>\n",
       "    .dataframe tbody tr th:only-of-type {\n",
       "        vertical-align: middle;\n",
       "    }\n",
       "\n",
       "    .dataframe tbody tr th {\n",
       "        vertical-align: top;\n",
       "    }\n",
       "\n",
       "    .dataframe thead th {\n",
       "        text-align: right;\n",
       "    }\n",
       "</style>\n",
       "<table border=\"1\" class=\"dataframe\">\n",
       "  <thead>\n",
       "    <tr style=\"text-align: right;\">\n",
       "      <th></th>\n",
       "      <th>dropoff_location_name</th>\n",
       "    </tr>\n",
       "  </thead>\n",
       "  <tbody>\n",
       "    <tr>\n",
       "      <td>count</td>\n",
       "      <td>94</td>\n",
       "    </tr>\n",
       "    <tr>\n",
       "      <td>unique</td>\n",
       "      <td>94</td>\n",
       "    </tr>\n",
       "    <tr>\n",
       "      <td>top</td>\n",
       "      <td>Chicago Lawn</td>\n",
       "    </tr>\n",
       "    <tr>\n",
       "      <td>freq</td>\n",
       "      <td>1</td>\n",
       "    </tr>\n",
       "  </tbody>\n",
       "</table>\n",
       "</div>"
      ],
      "text/plain": [
       "       dropoff_location_name\n",
       "count                     94\n",
       "unique                    94\n",
       "top             Chicago Lawn\n",
       "freq                       1"
      ]
     },
     "metadata": {},
     "output_type": "display_data"
    },
    {
     "name": "stdout",
     "output_type": "stream",
     "text": [
      "\n",
      "Columns with nulls:\n"
     ]
    },
    {
     "data": {
      "text/html": [
       "<div>\n",
       "<style scoped>\n",
       "    .dataframe tbody tr th:only-of-type {\n",
       "        vertical-align: middle;\n",
       "    }\n",
       "\n",
       "    .dataframe tbody tr th {\n",
       "        vertical-align: top;\n",
       "    }\n",
       "\n",
       "    .dataframe thead th {\n",
       "        text-align: right;\n",
       "    }\n",
       "</style>\n",
       "<table border=\"1\" class=\"dataframe\">\n",
       "  <thead>\n",
       "    <tr style=\"text-align: right;\">\n",
       "      <th></th>\n",
       "      <th>Missing Values</th>\n",
       "      <th>Percent of Nulls</th>\n",
       "    </tr>\n",
       "  </thead>\n",
       "  <tbody>\n",
       "    <tr>\n",
       "      <td>dropoff_location_name</td>\n",
       "      <td>0</td>\n",
       "      <td>0.0</td>\n",
       "    </tr>\n",
       "    <tr>\n",
       "      <td>average_trips</td>\n",
       "      <td>0</td>\n",
       "      <td>0.0</td>\n",
       "    </tr>\n",
       "  </tbody>\n",
       "</table>\n",
       "</div>"
      ],
      "text/plain": [
       "                       Missing Values  Percent of Nulls\n",
       "dropoff_location_name               0               0.0\n",
       "average_trips                       0               0.0"
      ]
     },
     "metadata": {},
     "output_type": "display_data"
    },
    {
     "name": "stdout",
     "output_type": "stream",
     "text": [
      "----------------------------------------------------------------------------------------------------\n",
      "Shape:\n",
      "(94, 2)\n",
      "----------------------------------------------------------------------------------------------------\n",
      "Duplicated:\n",
      "We have 0 duplicated rows!\n"
     ]
    }
   ],
   "source": [
    "get_info(dropoff_location_average_trips, 4)"
   ]
  },
  {
   "cell_type": "markdown",
   "metadata": {},
   "source": [
    "We see that the data looks fine"
   ]
  },
  {
   "cell_type": "markdown",
   "metadata": {},
   "source": [
    "- The `dropoff_location_average_trips` table contains \n",
    "    - `dropoff_location_name`, names of the Chicago neighborhoods where dropoffs occured\n",
    "    - `average_trips`, the average number of rides that ended in each of these Chicago neighborhoods in November 2017."
   ]
  },
  {
   "cell_type": "code",
   "execution_count": 6,
   "metadata": {},
   "outputs": [],
   "source": [
    "# Remove unneccessary numbers and - from the name\n",
    "company_name_trips_amount['company_name'] = company_name_trips_amount['company_name'].str.replace('\\d+ - (\\d+)* -*', '')\n",
    "company_name_trips_amount['company_name'] = company_name_trips_amount['company_name'].str.replace('\\d+ - ', '')"
   ]
  },
  {
   "cell_type": "markdown",
   "metadata": {},
   "source": [
    "- We are ready to slice the data now"
   ]
  },
  {
   "cell_type": "markdown",
   "metadata": {},
   "source": [
    "<div class=\"alert alert-block alert-success\">\n",
    "<b>Reviewer's comment v.1</b> \n",
    "    \n",
    "✔  The data are well loaded and observed.\n",
    "</div>"
   ]
  },
  {
   "cell_type": "markdown",
   "metadata": {},
   "source": [
    "**identify the top 10 neighborhoods in terms of drop-offs**"
   ]
  },
  {
   "cell_type": "markdown",
   "metadata": {},
   "source": [
    "- Let's first sort the average trips and pick the 10 highest locations."
   ]
  },
  {
   "cell_type": "code",
   "execution_count": 7,
   "metadata": {},
   "outputs": [
    {
     "data": {
      "text/html": [
       "<div>\n",
       "<style scoped>\n",
       "    .dataframe tbody tr th:only-of-type {\n",
       "        vertical-align: middle;\n",
       "    }\n",
       "\n",
       "    .dataframe tbody tr th {\n",
       "        vertical-align: top;\n",
       "    }\n",
       "\n",
       "    .dataframe thead th {\n",
       "        text-align: right;\n",
       "    }\n",
       "</style>\n",
       "<table border=\"1\" class=\"dataframe\">\n",
       "  <thead>\n",
       "    <tr style=\"text-align: right;\">\n",
       "      <th></th>\n",
       "      <th>dropoff_location_name</th>\n",
       "      <th>average_trips</th>\n",
       "    </tr>\n",
       "  </thead>\n",
       "  <tbody>\n",
       "    <tr>\n",
       "      <td>0</td>\n",
       "      <td>Loop</td>\n",
       "      <td>10727.466667</td>\n",
       "    </tr>\n",
       "    <tr>\n",
       "      <td>1</td>\n",
       "      <td>River North</td>\n",
       "      <td>9523.666667</td>\n",
       "    </tr>\n",
       "    <tr>\n",
       "      <td>2</td>\n",
       "      <td>Streeterville</td>\n",
       "      <td>6664.666667</td>\n",
       "    </tr>\n",
       "    <tr>\n",
       "      <td>3</td>\n",
       "      <td>West Loop</td>\n",
       "      <td>5163.666667</td>\n",
       "    </tr>\n",
       "    <tr>\n",
       "      <td>4</td>\n",
       "      <td>O'Hare</td>\n",
       "      <td>2546.900000</td>\n",
       "    </tr>\n",
       "    <tr>\n",
       "      <td>5</td>\n",
       "      <td>Lake View</td>\n",
       "      <td>2420.966667</td>\n",
       "    </tr>\n",
       "    <tr>\n",
       "      <td>6</td>\n",
       "      <td>Grant Park</td>\n",
       "      <td>2068.533333</td>\n",
       "    </tr>\n",
       "    <tr>\n",
       "      <td>7</td>\n",
       "      <td>Museum Campus</td>\n",
       "      <td>1510.000000</td>\n",
       "    </tr>\n",
       "    <tr>\n",
       "      <td>8</td>\n",
       "      <td>Gold Coast</td>\n",
       "      <td>1364.233333</td>\n",
       "    </tr>\n",
       "    <tr>\n",
       "      <td>9</td>\n",
       "      <td>Sheffield &amp; DePaul</td>\n",
       "      <td>1259.766667</td>\n",
       "    </tr>\n",
       "  </tbody>\n",
       "</table>\n",
       "</div>"
      ],
      "text/plain": [
       "  dropoff_location_name  average_trips\n",
       "0                  Loop   10727.466667\n",
       "1           River North    9523.666667\n",
       "2         Streeterville    6664.666667\n",
       "3             West Loop    5163.666667\n",
       "4                O'Hare    2546.900000\n",
       "5             Lake View    2420.966667\n",
       "6            Grant Park    2068.533333\n",
       "7         Museum Campus    1510.000000\n",
       "8            Gold Coast    1364.233333\n",
       "9    Sheffield & DePaul    1259.766667"
      ]
     },
     "execution_count": 7,
     "metadata": {},
     "output_type": "execute_result"
    }
   ],
   "source": [
    "top_10_dropoffs = dropoff_location_average_trips.sort_values(\"average_trips\",ascending=False).head(10)\n",
    "top_10_dropoffs"
   ]
  },
  {
   "cell_type": "markdown",
   "metadata": {},
   "source": [
    "- And now sort the most trips and pick the 10 highest companies."
   ]
  },
  {
   "cell_type": "code",
   "execution_count": 8,
   "metadata": {},
   "outputs": [],
   "source": [
    "#top_10_companies = company_name_trips_amount.sort_values('trips_amount',ascending=False).head(10)"
   ]
  },
  {
   "cell_type": "code",
   "execution_count": 9,
   "metadata": {},
   "outputs": [
    {
     "data": {
      "text/html": [
       "<div>\n",
       "<style scoped>\n",
       "    .dataframe tbody tr th:only-of-type {\n",
       "        vertical-align: middle;\n",
       "    }\n",
       "\n",
       "    .dataframe tbody tr th {\n",
       "        vertical-align: top;\n",
       "    }\n",
       "\n",
       "    .dataframe thead th {\n",
       "        text-align: right;\n",
       "    }\n",
       "</style>\n",
       "<table border=\"1\" class=\"dataframe\">\n",
       "  <thead>\n",
       "    <tr style=\"text-align: right;\">\n",
       "      <th></th>\n",
       "      <th>company_name</th>\n",
       "      <th>trips_amount</th>\n",
       "    </tr>\n",
       "  </thead>\n",
       "  <tbody>\n",
       "    <tr>\n",
       "      <td>0</td>\n",
       "      <td>Flash Cab</td>\n",
       "      <td>19558</td>\n",
       "    </tr>\n",
       "    <tr>\n",
       "      <td>1</td>\n",
       "      <td>Taxi Affiliation Services</td>\n",
       "      <td>11422</td>\n",
       "    </tr>\n",
       "    <tr>\n",
       "      <td>2</td>\n",
       "      <td>Medallion Leasing</td>\n",
       "      <td>10367</td>\n",
       "    </tr>\n",
       "    <tr>\n",
       "      <td>3</td>\n",
       "      <td>Yellow Cab</td>\n",
       "      <td>9888</td>\n",
       "    </tr>\n",
       "    <tr>\n",
       "      <td>4</td>\n",
       "      <td>Taxi Affiliation Service Yellow</td>\n",
       "      <td>9299</td>\n",
       "    </tr>\n",
       "    <tr>\n",
       "      <td>5</td>\n",
       "      <td>Chicago Carriage Cab Corp</td>\n",
       "      <td>9181</td>\n",
       "    </tr>\n",
       "    <tr>\n",
       "      <td>6</td>\n",
       "      <td>City Service</td>\n",
       "      <td>8448</td>\n",
       "    </tr>\n",
       "    <tr>\n",
       "      <td>7</td>\n",
       "      <td>Sun Taxi</td>\n",
       "      <td>7701</td>\n",
       "    </tr>\n",
       "    <tr>\n",
       "      <td>8</td>\n",
       "      <td>Star North Management LLC</td>\n",
       "      <td>7455</td>\n",
       "    </tr>\n",
       "    <tr>\n",
       "      <td>9</td>\n",
       "      <td>Blue Ribbon Taxi Association Inc.</td>\n",
       "      <td>5953</td>\n",
       "    </tr>\n",
       "  </tbody>\n",
       "</table>\n",
       "</div>"
      ],
      "text/plain": [
       "                        company_name  trips_amount\n",
       "0                          Flash Cab         19558\n",
       "1          Taxi Affiliation Services         11422\n",
       "2                  Medallion Leasing         10367\n",
       "3                         Yellow Cab          9888\n",
       "4    Taxi Affiliation Service Yellow          9299\n",
       "5          Chicago Carriage Cab Corp          9181\n",
       "6                       City Service          8448\n",
       "7                           Sun Taxi          7701\n",
       "8          Star North Management LLC          7455\n",
       "9  Blue Ribbon Taxi Association Inc.          5953"
      ]
     },
     "execution_count": 9,
     "metadata": {},
     "output_type": "execute_result"
    }
   ],
   "source": [
    "top_10_companies = company_name_trips_amount.nlargest(10, 'trips_amount')\n",
    "top_10_companies"
   ]
  },
  {
   "cell_type": "markdown",
   "metadata": {},
   "source": [
    "<div class=\"alert alert-block alert-success\">\n",
    "<b>Reviewer's comment v.1</b> \n",
    "    \n",
    "⭐Good job at this stage! The data have been prepared to the study. It is good that you have done sorted the data and selected the first 10 entries before plotting the graphs. \n",
    "\n",
    "In this case, we could also use the `.nlargest()` method. This method returns the first `n` rows ordered by columns in descending order and is equivalent to `df.sort_values(columns, ascending=False).head(n)`, but more performant.\n",
    "    \n",
    "</div>"
   ]
  },
  {
   "cell_type": "markdown",
   "metadata": {},
   "source": [
    "<div class=\"alert alert-info\"> \n",
    "<b>Student's comment</b> \n",
    "    \n",
    "Done, thank you\n",
    "</div>"
   ]
  },
  {
   "cell_type": "markdown",
   "metadata": {},
   "source": [
    "<div class=\"alert alert-block alert-success\">\n",
    "<b>Reviewer's comment v.2</b> \n",
    "    \n",
    "✔ Well done!\n",
    "</div>"
   ]
  },
  {
   "cell_type": "markdown",
   "metadata": {},
   "source": [
    "- Making a barplot of the companies with the most number of trips made"
   ]
  },
  {
   "cell_type": "code",
   "execution_count": 10,
   "metadata": {},
   "outputs": [
    {
     "data": {
      "image/png": "[encoded data removed]",
      "text/plain": [
       "<Figure size 432x288 with 1 Axes>"
      ]
     },
     "metadata": {
      "needs_background": "light"
     },
     "output_type": "display_data"
    }
   ],
   "source": [
    "top_10_companies.plot(kind='bar', y= \"trips_amount\", x =\"company_name\", title='Companies trips amount top 10')\n",
    "plt.show()"
   ]
  },
  {
   "cell_type": "markdown",
   "metadata": {},
   "source": [
    "<div class=\"alert alert-danger\" role=\"alert\">\n",
    "<b>Reviewer's comment v.1</b> \n",
    "    \n",
    "📊 We should pay more attention to the graph within projects. Please add the graph title and the Y-axis label. Also, we could avoid the technical information display like that `<matplotlib.axes._subplots.AxesSubplot at 0x7fe359a47150>` using the `plt.show()` method.\n",
    "    \n",
    "Please check and fix that as well as check the other plots within the project.\n",
    "</div>\n"
   ]
  },
  {
   "cell_type": "markdown",
   "metadata": {},
   "source": [
    "<div class=\"alert alert-info\"> \n",
    "<b>Student's comment</b> \n",
    "    \n",
    "Done\n",
    "</div>"
   ]
  },
  {
   "cell_type": "markdown",
   "metadata": {},
   "source": [
    "<div class=\"alert alert-block alert-success\">\n",
    "<b>Reviewer's comment v.2</b> \n",
    "    \n",
    "✔ Thanks!\n",
    "</div>"
   ]
  },
  {
   "cell_type": "markdown",
   "metadata": {},
   "source": [
    "- We can see here that for November 15-16, 2017:\n",
    "    - `Flash Cab` has the highest market share, almost 20% \n",
    "    - `Blue Ribbon Taxi Association Inc.` Taxi has the 10th highest with 6% of the market share."
   ]
  },
  {
   "cell_type": "code",
   "execution_count": 11,
   "metadata": {},
   "outputs": [
    {
     "data": {
      "image/png": "[encoded data removed]",
      "text/plain": [
       "<Figure size 432x288 with 1 Axes>"
      ]
     },
     "metadata": {
      "needs_background": "light"
     },
     "output_type": "display_data"
    }
   ],
   "source": [
    "top_10_dropoffs.plot(kind='bar', y= \"average_trips\", x =\"dropoff_location_name\", title='Average trips dropoffs top 10')\n",
    "plt.show()"
   ]
  },
  {
   "cell_type": "markdown",
   "metadata": {},
   "source": [
    "- We can see here too which neighborhoods had the most number of average trips that ended there in November 2017. \n",
    "    - `Loop` is the highest with almost 25%"
   ]
  },
  {
   "cell_type": "markdown",
   "metadata": {},
   "source": [
    "<div class=\"alert alert-block alert-success\">\n",
    "<b>Reviewer's comment v.1</b> \n",
    "    \n",
    "✔ Well done! The top-10 drop-off locations have been observed and described. \n",
    "    \n",
    "---    \n",
    "    \n",
    "🌎 Also, we could expand the conclusions with additional information. We could find on the Internet that the first four top neighborhoods (Loop, River North, Streeterville, West Loop) are located close to each other, and they are the most popular places in Chicago. It explains the high amount of average trips for them and most probably between them. http://www.thechicago77.com/chicago-neighborhoods/\n",
    "    \n",
    "</div>"
   ]
  },
  {
   "cell_type": "markdown",
   "metadata": {},
   "source": [
    "# STEP 2  Testing hypotheses (Python)"
   ]
  },
  {
   "cell_type": "markdown",
   "metadata": {},
   "source": [
    "- Let's import the last dataset for the hypothesis test"
   ]
  },
  {
   "cell_type": "code",
   "execution_count": 12,
   "metadata": {},
   "outputs": [],
   "source": [
    "loop_ohare = pd.read_csv('/datasets/project_sql_result_07.csv')"
   ]
  },
  {
   "cell_type": "code",
   "execution_count": 13,
   "metadata": {
    "scrolled": false
   },
   "outputs": [
    {
     "name": "stdout",
     "output_type": "stream",
     "text": [
      "Head:\n",
      "\n"
     ]
    },
    {
     "data": {
      "text/html": [
       "<div>\n",
       "<style scoped>\n",
       "    .dataframe tbody tr th:only-of-type {\n",
       "        vertical-align: middle;\n",
       "    }\n",
       "\n",
       "    .dataframe tbody tr th {\n",
       "        vertical-align: top;\n",
       "    }\n",
       "\n",
       "    .dataframe thead th {\n",
       "        text-align: right;\n",
       "    }\n",
       "</style>\n",
       "<table border=\"1\" class=\"dataframe\">\n",
       "  <thead>\n",
       "    <tr style=\"text-align: right;\">\n",
       "      <th></th>\n",
       "      <th>start_ts</th>\n",
       "      <th>weather_conditions</th>\n",
       "      <th>duration_seconds</th>\n",
       "    </tr>\n",
       "  </thead>\n",
       "  <tbody>\n",
       "    <tr>\n",
       "      <td>0</td>\n",
       "      <td>2017-11-25 16:00:00</td>\n",
       "      <td>Good</td>\n",
       "      <td>2410.0</td>\n",
       "    </tr>\n",
       "    <tr>\n",
       "      <td>1</td>\n",
       "      <td>2017-11-25 14:00:00</td>\n",
       "      <td>Good</td>\n",
       "      <td>1920.0</td>\n",
       "    </tr>\n",
       "    <tr>\n",
       "      <td>2</td>\n",
       "      <td>2017-11-25 12:00:00</td>\n",
       "      <td>Good</td>\n",
       "      <td>1543.0</td>\n",
       "    </tr>\n",
       "    <tr>\n",
       "      <td>3</td>\n",
       "      <td>2017-11-04 10:00:00</td>\n",
       "      <td>Good</td>\n",
       "      <td>2512.0</td>\n",
       "    </tr>\n",
       "    <tr>\n",
       "      <td>4</td>\n",
       "      <td>2017-11-11 07:00:00</td>\n",
       "      <td>Good</td>\n",
       "      <td>1440.0</td>\n",
       "    </tr>\n",
       "  </tbody>\n",
       "</table>\n",
       "</div>"
      ],
      "text/plain": [
       "              start_ts weather_conditions  duration_seconds\n",
       "0  2017-11-25 16:00:00               Good            2410.0\n",
       "1  2017-11-25 14:00:00               Good            1920.0\n",
       "2  2017-11-25 12:00:00               Good            1543.0\n",
       "3  2017-11-04 10:00:00               Good            2512.0\n",
       "4  2017-11-11 07:00:00               Good            1440.0"
      ]
     },
     "metadata": {},
     "output_type": "display_data"
    },
    {
     "name": "stdout",
     "output_type": "stream",
     "text": [
      "----------------------------------------------------------------------------------------------------\n",
      "Info:\n",
      "\n",
      "<class 'pandas.core.frame.DataFrame'>\n",
      "RangeIndex: 1068 entries, 0 to 1067\n",
      "Data columns (total 3 columns):\n",
      "start_ts              1068 non-null object\n",
      "weather_conditions    1068 non-null object\n",
      "duration_seconds      1068 non-null float64\n",
      "dtypes: float64(1), object(2)\n",
      "memory usage: 25.2+ KB\n"
     ]
    },
    {
     "data": {
      "text/plain": [
       "None"
      ]
     },
     "metadata": {},
     "output_type": "display_data"
    },
    {
     "name": "stdout",
     "output_type": "stream",
     "text": [
      "----------------------------------------------------------------------------------------------------\n",
      "Describe:\n",
      "\n"
     ]
    },
    {
     "data": {
      "text/html": [
       "<div>\n",
       "<style scoped>\n",
       "    .dataframe tbody tr th:only-of-type {\n",
       "        vertical-align: middle;\n",
       "    }\n",
       "\n",
       "    .dataframe tbody tr th {\n",
       "        vertical-align: top;\n",
       "    }\n",
       "\n",
       "    .dataframe thead th {\n",
       "        text-align: right;\n",
       "    }\n",
       "</style>\n",
       "<table border=\"1\" class=\"dataframe\">\n",
       "  <thead>\n",
       "    <tr style=\"text-align: right;\">\n",
       "      <th></th>\n",
       "      <th>duration_seconds</th>\n",
       "    </tr>\n",
       "  </thead>\n",
       "  <tbody>\n",
       "    <tr>\n",
       "      <td>count</td>\n",
       "      <td>1068.000000</td>\n",
       "    </tr>\n",
       "    <tr>\n",
       "      <td>mean</td>\n",
       "      <td>2071.731273</td>\n",
       "    </tr>\n",
       "    <tr>\n",
       "      <td>std</td>\n",
       "      <td>769.461125</td>\n",
       "    </tr>\n",
       "    <tr>\n",
       "      <td>min</td>\n",
       "      <td>0.000000</td>\n",
       "    </tr>\n",
       "    <tr>\n",
       "      <td>25%</td>\n",
       "      <td>1438.250000</td>\n",
       "    </tr>\n",
       "    <tr>\n",
       "      <td>50%</td>\n",
       "      <td>1980.000000</td>\n",
       "    </tr>\n",
       "    <tr>\n",
       "      <td>75%</td>\n",
       "      <td>2580.000000</td>\n",
       "    </tr>\n",
       "    <tr>\n",
       "      <td>max</td>\n",
       "      <td>7440.000000</td>\n",
       "    </tr>\n",
       "  </tbody>\n",
       "</table>\n",
       "</div>"
      ],
      "text/plain": [
       "       duration_seconds\n",
       "count       1068.000000\n",
       "mean        2071.731273\n",
       "std          769.461125\n",
       "min            0.000000\n",
       "25%         1438.250000\n",
       "50%         1980.000000\n",
       "75%         2580.000000\n",
       "max         7440.000000"
      ]
     },
     "metadata": {},
     "output_type": "display_data"
    },
    {
     "name": "stdout",
     "output_type": "stream",
     "text": [
      "----------------------------------------------------------------------------------------------------\n"
     ]
    },
    {
     "data": {
      "text/html": [
       "<div>\n",
       "<style scoped>\n",
       "    .dataframe tbody tr th:only-of-type {\n",
       "        vertical-align: middle;\n",
       "    }\n",
       "\n",
       "    .dataframe tbody tr th {\n",
       "        vertical-align: top;\n",
       "    }\n",
       "\n",
       "    .dataframe thead th {\n",
       "        text-align: right;\n",
       "    }\n",
       "</style>\n",
       "<table border=\"1\" class=\"dataframe\">\n",
       "  <thead>\n",
       "    <tr style=\"text-align: right;\">\n",
       "      <th></th>\n",
       "      <th>start_ts</th>\n",
       "      <th>weather_conditions</th>\n",
       "    </tr>\n",
       "  </thead>\n",
       "  <tbody>\n",
       "    <tr>\n",
       "      <td>count</td>\n",
       "      <td>1068</td>\n",
       "      <td>1068</td>\n",
       "    </tr>\n",
       "    <tr>\n",
       "      <td>unique</td>\n",
       "      <td>81</td>\n",
       "      <td>2</td>\n",
       "    </tr>\n",
       "    <tr>\n",
       "      <td>top</td>\n",
       "      <td>2017-11-11 10:00:00</td>\n",
       "      <td>Good</td>\n",
       "    </tr>\n",
       "    <tr>\n",
       "      <td>freq</td>\n",
       "      <td>48</td>\n",
       "      <td>888</td>\n",
       "    </tr>\n",
       "  </tbody>\n",
       "</table>\n",
       "</div>"
      ],
      "text/plain": [
       "                   start_ts weather_conditions\n",
       "count                  1068               1068\n",
       "unique                   81                  2\n",
       "top     2017-11-11 10:00:00               Good\n",
       "freq                     48                888"
      ]
     },
     "metadata": {},
     "output_type": "display_data"
    },
    {
     "name": "stdout",
     "output_type": "stream",
     "text": [
      "\n",
      "Columns with nulls:\n"
     ]
    },
    {
     "data": {
      "text/html": [
       "<div>\n",
       "<style scoped>\n",
       "    .dataframe tbody tr th:only-of-type {\n",
       "        vertical-align: middle;\n",
       "    }\n",
       "\n",
       "    .dataframe tbody tr th {\n",
       "        vertical-align: top;\n",
       "    }\n",
       "\n",
       "    .dataframe thead th {\n",
       "        text-align: right;\n",
       "    }\n",
       "</style>\n",
       "<table border=\"1\" class=\"dataframe\">\n",
       "  <thead>\n",
       "    <tr style=\"text-align: right;\">\n",
       "      <th></th>\n",
       "      <th>Missing Values</th>\n",
       "      <th>Percent of Nulls</th>\n",
       "    </tr>\n",
       "  </thead>\n",
       "  <tbody>\n",
       "    <tr>\n",
       "      <td>start_ts</td>\n",
       "      <td>0</td>\n",
       "      <td>0.0</td>\n",
       "    </tr>\n",
       "    <tr>\n",
       "      <td>weather_conditions</td>\n",
       "      <td>0</td>\n",
       "      <td>0.0</td>\n",
       "    </tr>\n",
       "    <tr>\n",
       "      <td>duration_seconds</td>\n",
       "      <td>0</td>\n",
       "      <td>0.0</td>\n",
       "    </tr>\n",
       "  </tbody>\n",
       "</table>\n",
       "</div>"
      ],
      "text/plain": [
       "                    Missing Values  Percent of Nulls\n",
       "start_ts                         0               0.0\n",
       "weather_conditions               0               0.0\n",
       "duration_seconds                 0               0.0"
      ]
     },
     "metadata": {},
     "output_type": "display_data"
    },
    {
     "name": "stdout",
     "output_type": "stream",
     "text": [
      "----------------------------------------------------------------------------------------------------\n",
      "Shape:\n",
      "(1068, 3)\n",
      "----------------------------------------------------------------------------------------------------\n",
      "Duplicated:\n",
      "We have 197 duplicated rows!\n"
     ]
    }
   ],
   "source": [
    "get_info(loop_ohare, 4)"
   ]
  },
  {
   "cell_type": "markdown",
   "metadata": {},
   "source": [
    "- converting the start_ts column to datetime format first so it makes the filtering easier for us"
   ]
  },
  {
   "cell_type": "code",
   "execution_count": 14,
   "metadata": {},
   "outputs": [],
   "source": [
    "loop_ohare['start_ts'] = pd.to_datetime(loop_ohare['start_ts'])"
   ]
  },
  {
   "cell_type": "markdown",
   "metadata": {},
   "source": [
    "- As we see here, we have 197 duplicates, let's take a closer look"
   ]
  },
  {
   "cell_type": "code",
   "execution_count": 15,
   "metadata": {},
   "outputs": [
    {
     "data": {
      "text/plain": [
       "197"
      ]
     },
     "execution_count": 15,
     "metadata": {},
     "output_type": "execute_result"
    }
   ],
   "source": [
    "loop_ohare.duplicated().sum()"
   ]
  },
  {
   "cell_type": "code",
   "execution_count": 16,
   "metadata": {},
   "outputs": [
    {
     "data": {
      "text/html": [
       "<div>\n",
       "<style scoped>\n",
       "    .dataframe tbody tr th:only-of-type {\n",
       "        vertical-align: middle;\n",
       "    }\n",
       "\n",
       "    .dataframe tbody tr th {\n",
       "        vertical-align: top;\n",
       "    }\n",
       "\n",
       "    .dataframe thead th {\n",
       "        text-align: right;\n",
       "    }\n",
       "</style>\n",
       "<table border=\"1\" class=\"dataframe\">\n",
       "  <thead>\n",
       "    <tr style=\"text-align: right;\">\n",
       "      <th></th>\n",
       "      <th>start_ts</th>\n",
       "      <th>weather_conditions</th>\n",
       "      <th>duration_seconds</th>\n",
       "    </tr>\n",
       "  </thead>\n",
       "  <tbody>\n",
       "    <tr>\n",
       "      <td>62</td>\n",
       "      <td>2017-11-11 06:00:00</td>\n",
       "      <td>Good</td>\n",
       "      <td>1260.0</td>\n",
       "    </tr>\n",
       "    <tr>\n",
       "      <td>74</td>\n",
       "      <td>2017-11-11 08:00:00</td>\n",
       "      <td>Good</td>\n",
       "      <td>1380.0</td>\n",
       "    </tr>\n",
       "    <tr>\n",
       "      <td>76</td>\n",
       "      <td>2017-11-04 09:00:00</td>\n",
       "      <td>Good</td>\n",
       "      <td>1380.0</td>\n",
       "    </tr>\n",
       "    <tr>\n",
       "      <td>117</td>\n",
       "      <td>2017-11-11 07:00:00</td>\n",
       "      <td>Good</td>\n",
       "      <td>1380.0</td>\n",
       "    </tr>\n",
       "    <tr>\n",
       "      <td>119</td>\n",
       "      <td>2017-11-04 14:00:00</td>\n",
       "      <td>Good</td>\n",
       "      <td>3300.0</td>\n",
       "    </tr>\n",
       "    <tr>\n",
       "      <td>...</td>\n",
       "      <td>...</td>\n",
       "      <td>...</td>\n",
       "      <td>...</td>\n",
       "    </tr>\n",
       "    <tr>\n",
       "      <td>1054</td>\n",
       "      <td>2017-11-11 07:00:00</td>\n",
       "      <td>Good</td>\n",
       "      <td>1380.0</td>\n",
       "    </tr>\n",
       "    <tr>\n",
       "      <td>1058</td>\n",
       "      <td>2017-11-25 12:00:00</td>\n",
       "      <td>Good</td>\n",
       "      <td>1440.0</td>\n",
       "    </tr>\n",
       "    <tr>\n",
       "      <td>1062</td>\n",
       "      <td>2017-11-11 06:00:00</td>\n",
       "      <td>Good</td>\n",
       "      <td>1500.0</td>\n",
       "    </tr>\n",
       "    <tr>\n",
       "      <td>1065</td>\n",
       "      <td>2017-11-11 13:00:00</td>\n",
       "      <td>Good</td>\n",
       "      <td>2100.0</td>\n",
       "    </tr>\n",
       "    <tr>\n",
       "      <td>1066</td>\n",
       "      <td>2017-11-11 08:00:00</td>\n",
       "      <td>Good</td>\n",
       "      <td>1380.0</td>\n",
       "    </tr>\n",
       "  </tbody>\n",
       "</table>\n",
       "<p>197 rows × 3 columns</p>\n",
       "</div>"
      ],
      "text/plain": [
       "                start_ts weather_conditions  duration_seconds\n",
       "62   2017-11-11 06:00:00               Good            1260.0\n",
       "74   2017-11-11 08:00:00               Good            1380.0\n",
       "76   2017-11-04 09:00:00               Good            1380.0\n",
       "117  2017-11-11 07:00:00               Good            1380.0\n",
       "119  2017-11-04 14:00:00               Good            3300.0\n",
       "...                  ...                ...               ...\n",
       "1054 2017-11-11 07:00:00               Good            1380.0\n",
       "1058 2017-11-25 12:00:00               Good            1440.0\n",
       "1062 2017-11-11 06:00:00               Good            1500.0\n",
       "1065 2017-11-11 13:00:00               Good            2100.0\n",
       "1066 2017-11-11 08:00:00               Good            1380.0\n",
       "\n",
       "[197 rows x 3 columns]"
      ]
     },
     "execution_count": 16,
     "metadata": {},
     "output_type": "execute_result"
    }
   ],
   "source": [
    "loop_ohare[loop_ohare.duplicated()]"
   ]
  },
  {
   "cell_type": "code",
   "execution_count": 17,
   "metadata": {},
   "outputs": [
    {
     "data": {
      "text/plain": [
       "0"
      ]
     },
     "execution_count": 17,
     "metadata": {},
     "output_type": "execute_result"
    }
   ],
   "source": [
    "#droping duplicates\n",
    "loop_ohare = loop_ohare.drop_duplicates().reset_index(drop=True)\n",
    "loop_ohare.duplicated().sum()"
   ]
  },
  {
   "cell_type": "markdown",
   "metadata": {},
   "source": [
    "<div class=\"alert alert-block alert-success\">\n",
    "<b>Reviewer's comment v.2</b> \n",
    "    \n",
    "✔ Well, the duplicates have been recognized and dropped. We could also see that the `start_ts` data were rounded up to an hour, and the `duration_seconds` data were rounded up to tens. So, in this case, we do not know whether it is duplicate data or identity.\n",
    "    \n",
    "</div>"
   ]
  },
  {
   "cell_type": "markdown",
   "metadata": {},
   "source": [
    "- let's take a closer look at `duration_seconds` column"
   ]
  },
  {
   "cell_type": "code",
   "execution_count": 18,
   "metadata": {},
   "outputs": [
    {
     "data": {
      "text/plain": [
       "0.0"
      ]
     },
     "execution_count": 18,
     "metadata": {},
     "output_type": "execute_result"
    }
   ],
   "source": [
    "loop_ohare['duration_seconds'].min()"
   ]
  },
  {
   "cell_type": "markdown",
   "metadata": {},
   "source": [
    "- the `duration_seconds` can't be 0\n",
    "- I think the best is to drop the 0 records"
   ]
  },
  {
   "cell_type": "code",
   "execution_count": 19,
   "metadata": {},
   "outputs": [],
   "source": [
    "loop_ohare.drop(loop_ohare[loop_ohare['duration_seconds'] == 0].index, inplace = True)"
   ]
  },
  {
   "cell_type": "markdown",
   "metadata": {},
   "source": [
    "<div class=\"alert alert-block alert-success\">\n",
    "<b>Reviewer's comment v.2</b> \n",
    "    \n",
    "✔ Correct!\n",
    "    \n",
    "</div>"
   ]
  },
  {
   "cell_type": "code",
   "execution_count": 20,
   "metadata": {},
   "outputs": [
    {
     "data": {
      "image/png": "[encoded data removed]",
      "text/plain": [
       "<Figure size 432x288 with 1 Axes>"
      ]
     },
     "metadata": {
      "needs_background": "light"
     },
     "output_type": "display_data"
    }
   ],
   "source": [
    "sns.distplot(loop_ohare[\"duration_seconds\"], bins=list(range(100, 4000, 200))).set(title='Duration_seconds distribution', xlabel='duration_seconds', ylabel='density')\n",
    "plt.show()"
   ]
  },
  {
   "cell_type": "code",
   "execution_count": 21,
   "metadata": {},
   "outputs": [
    {
     "data": {
      "image/png": "[encoded data removed]",
      "text/plain": [
       "<Figure size 432x288 with 1 Axes>"
      ]
     },
     "metadata": {
      "needs_background": "light"
     },
     "output_type": "display_data"
    }
   ],
   "source": [
    "sns.boxplot(loop_ohare[\"duration_seconds\"]).set(title='Duration_seconds boxplot', xlabel='duration_seconds')\n",
    "plt.show()"
   ]
  },
  {
   "cell_type": "code",
   "execution_count": 22,
   "metadata": {},
   "outputs": [
    {
     "data": {
      "text/plain": [
       "7440.0"
      ]
     },
     "execution_count": 22,
     "metadata": {},
     "output_type": "execute_result"
    }
   ],
   "source": [
    "loop_ohare['duration_seconds'].max()"
   ]
  },
  {
   "cell_type": "code",
   "execution_count": 23,
   "metadata": {},
   "outputs": [
    {
     "data": {
      "text/plain": [
       "2037.0"
      ]
     },
     "execution_count": 23,
     "metadata": {},
     "output_type": "execute_result"
    }
   ],
   "source": [
    "loop_ohare['duration_seconds'].median()"
   ]
  },
  {
   "cell_type": "code",
   "execution_count": 24,
   "metadata": {},
   "outputs": [
    {
     "data": {
      "text/plain": [
       "(432, 3)"
      ]
     },
     "execution_count": 24,
     "metadata": {},
     "output_type": "execute_result"
    }
   ],
   "source": [
    "loop_ohare.loc[((loop_ohare['duration_seconds'] > 2037) & (loop_ohare['duration_seconds'] <= 7440.0) )].shape"
   ]
  },
  {
   "cell_type": "code",
   "execution_count": 25,
   "metadata": {},
   "outputs": [
    {
     "data": {
      "text/html": [
       "<div>\n",
       "<style scoped>\n",
       "    .dataframe tbody tr th:only-of-type {\n",
       "        vertical-align: middle;\n",
       "    }\n",
       "\n",
       "    .dataframe tbody tr th {\n",
       "        vertical-align: top;\n",
       "    }\n",
       "\n",
       "    .dataframe thead th {\n",
       "        text-align: right;\n",
       "    }\n",
       "</style>\n",
       "<table border=\"1\" class=\"dataframe\">\n",
       "  <thead>\n",
       "    <tr style=\"text-align: right;\">\n",
       "      <th></th>\n",
       "      <th>start_ts</th>\n",
       "      <th>weather_conditions</th>\n",
       "      <th>duration_seconds</th>\n",
       "    </tr>\n",
       "  </thead>\n",
       "  <tbody>\n",
       "    <tr>\n",
       "      <td>325</td>\n",
       "      <td>2017-11-25 11:00:00</td>\n",
       "      <td>Good</td>\n",
       "      <td>7440.0</td>\n",
       "    </tr>\n",
       "  </tbody>\n",
       "</table>\n",
       "</div>"
      ],
      "text/plain": [
       "               start_ts weather_conditions  duration_seconds\n",
       "325 2017-11-25 11:00:00               Good            7440.0"
      ]
     },
     "execution_count": 25,
     "metadata": {},
     "output_type": "execute_result"
    }
   ],
   "source": [
    "loop_ohare[loop_ohare['duration_seconds']==7440.0]"
   ]
  },
  {
   "cell_type": "markdown",
   "metadata": {},
   "source": [
    "**Conclusion**\n",
    "- Our data had no missing values\n",
    "- We dropped the duplicates and also the `duration_seconds` = 0 records\n",
    "- From the 2 previous plots, we can conlude that \n",
    "    - the distribution of the `duration_seconds` is slightly skewd right\n",
    "    - but converging to a normal distribution"
   ]
  },
  {
   "cell_type": "markdown",
   "metadata": {},
   "source": [
    "<div class=\"alert alert-block alert-success\">\n",
    "<b>Reviewer's comment v.1</b> \n",
    "    \n",
    "✔ It is good that you have been prepared the data for the following study.\n",
    "    \n",
    "</div>"
   ]
  },
  {
   "cell_type": "markdown",
   "metadata": {},
   "source": [
    "<div class=\"alert alert-danger\" role=\"alert\">\n",
    "<b>Reviewer's comment v.1</b> \n",
    "    \n",
    "✍ However, I would suggest some additional jobs here. Before providing the test, we should study the data that we used:\n",
    "- check the data for duplicates;\n",
    "- revise the data on any mistakes (i.e. zero durations).\n",
    "\n",
    "💹 At the end of this step, we should present brief conclusions regarding the source data. Please note that the result of the t-test depends on the presence of outliers in the data. So we should check that.\n",
    "\n",
    "Also, please display the values that we compared. It makes results more informative we will know how the duration be changed.\n",
    "    \n",
    "Please check and fix that.\n",
    "</div>\n"
   ]
  },
  {
   "cell_type": "markdown",
   "metadata": {},
   "source": [
    "<div class=\"alert alert-info\"> \n",
    "<b>Student's comment</b> \n",
    "    \n",
    "- done</div>"
   ]
  },
  {
   "cell_type": "markdown",
   "metadata": {},
   "source": [
    "<div class=\"alert alert-block alert-success\">\n",
    "<b>Reviewer's comment v.2</b> \n",
    "    \n",
    "✔ Thank you for your additional job at this stage.\n",
    "    \n",
    "</div>"
   ]
  },
  {
   "cell_type": "markdown",
   "metadata": {},
   "source": [
    "**Test the hypothesis:**\n",
    "\n",
    "\"The average duration of rides from the Loop to O'Hare International Airport changes on rainy Saturdays.\"\n",
    "\n",
    "Decide where to set the significance level (alpha) on your own.\n"
   ]
  },
  {
   "cell_type": "markdown",
   "metadata": {},
   "source": [
    "- Let's choose standard the significance level 0.05 and let's state:\n",
    "\n",
    "$H_0$ = \"The average duration of rides from the Loop to O'Hare International Airport doesn't change\"\n",
    "\n",
    "$H_1$ = \"The average duration of rides from the Loop to O'Hare International Airport changes on rainy Saturdays.\"\n",
    "\n",
    "we will test by average value and after that also check both average values"
   ]
  },
  {
   "cell_type": "markdown",
   "metadata": {},
   "source": [
    "<div class=\"alert alert-block alert-success\">\n",
    "<b>Reviewer's comment v.1</b> \n",
    "    \n",
    "👍  Well done! The hypotheses have been formulated correctly.\n",
    "    \n",
    "</div>"
   ]
  },
  {
   "cell_type": "code",
   "execution_count": 26,
   "metadata": {},
   "outputs": [],
   "source": [
    "alpha = 0.05"
   ]
  },
  {
   "cell_type": "code",
   "execution_count": 27,
   "metadata": {},
   "outputs": [],
   "source": [
    "H0 = \"The average duration of rides from the Loop to O'Hare International Airport doesn't change\"\n",
    "H1 = \"The average duration of rides from the Loop to O'Hare International Airport changes on rainy Saturdays.\""
   ]
  },
  {
   "cell_type": "code",
   "execution_count": 28,
   "metadata": {},
   "outputs": [],
   "source": [
    "saturdays_bad_rides = loop_ohare[(loop_ohare[\"start_ts\"].dt.weekday==5)&(loop_ohare[\"weather_conditions\"]!=\"Good\")][\"duration_seconds\"].values"
   ]
  },
  {
   "cell_type": "code",
   "execution_count": 29,
   "metadata": {},
   "outputs": [],
   "source": [
    "saturdays_good_rides = loop_ohare[(loop_ohare[\"start_ts\"].dt.weekday==5)&(loop_ohare[\"weather_conditions\"]==\"Good\")][\"duration_seconds\"].values"
   ]
  },
  {
   "cell_type": "code",
   "execution_count": 30,
   "metadata": {},
   "outputs": [
    {
     "data": {
      "text/plain": [
       "(148, 717)"
      ]
     },
     "execution_count": 30,
     "metadata": {},
     "output_type": "execute_result"
    }
   ],
   "source": [
    "len(saturdays_bad_rides), len(saturdays_good_rides)"
   ]
  },
  {
   "cell_type": "code",
   "execution_count": 31,
   "metadata": {
    "scrolled": true
   },
   "outputs": [
    {
     "name": "stdout",
     "output_type": "stream",
     "text": [
      "pvalue: 1.5394237752380357e-07\n",
      "The average duration of rides from the Loop to O'Hare International Airport changes on rainy Saturdays.\n",
      "checking:\n",
      "bad weather, mean=2409.23\n",
      "The average duration of rainy Saturday rides is: 40.15 minutes\n",
      "good weather, mean=2049.26\n",
      "The average duration of non-rainy Saturday rides is: 34.15 minutes\n"
     ]
    }
   ],
   "source": [
    "result = stats.ttest_ind(saturdays_bad_rides, saturdays_good_rides)\n",
    "print('pvalue:', result.pvalue)\n",
    "\n",
    "avg_rainy_durations_min = (saturdays_bad_rides.mean()/60).round(decimals=2)\n",
    "avg_nrainy_durations_min = (saturdays_good_rides.mean()/60).round(decimals=2)\n",
    "\n",
    "if (result.pvalue < alpha):\n",
    "    print(H1)\n",
    "else:\n",
    "    print(H0)\n",
    "print(\"checking:\")\n",
    "print(f\"bad weather, mean={saturdays_bad_rides.mean():.2f}\")\n",
    "print('The average duration of rainy Saturday rides is: ' + str(avg_rainy_durations_min) + \" minutes\")\n",
    "print(f\"good weather, mean={saturdays_good_rides.mean():.2f}\")\n",
    "print('The average duration of non-rainy Saturday rides is: ' + str(avg_nrainy_durations_min) + \" minutes\")"
   ]
  },
  {
   "cell_type": "markdown",
   "metadata": {},
   "source": [
    "<div class=\"alert alert-block alert-success\">\n",
    "<b>Reviewer's comment v.1</b> \n",
    "    \n",
    "👍 If we consider the test part, you have done a perfect job: the hypotheses have been formulated, the code and the interpretations of the results are correct.\n",
    "    \n",
    "</div>"
   ]
  },
  {
   "cell_type": "markdown",
   "metadata": {},
   "source": [
    "<div class=\"alert alert-block alert-warning\">\n",
    "<b>Reviewer's comment v.1:</b> \n",
    "    \n",
    "Please note that before testing statistical hypotheses using the Student's t-test, it is important to understand whether our data adhere to the assumptions that this statistical test makes for our compared samples. One of them is to check the homogeneity of the variances of the two compared samples. This is necessary in order to understand with which parameter to use the test method (Student's t-test or Welch's t-test) and specify the equal_var argument inside the st.ttest_ind method. You can read more in the scipy documentation: \n",
    "- https://docs.scipy.org/doc/scipy/reference/generated/scipy.stats.ttest_ind.html\n",
    "    \n",
    "\n",
    "</div>"
   ]
  },
  {
   "cell_type": "markdown",
   "metadata": {},
   "source": [
    "- We want to test the hypothesis that the average duration of rides rom the Loop to O'Hare International Airport changes on rainy Saturdays. \n",
    "- The data files we imported gives us the following informations for Saturdays in November of 2017:\n",
    "    - `start_ts` : pickup date and time\n",
    "    - `weather_conditions` : weather conditions at the moment the ride started\n",
    "    - `duration_seconds` : ride duration in seconds\n",
    "- We tested the hypothesis using t-test, from the groups (`Good` and `Bad` weather), to compare the average duration of the ride in seconds.\n",
    "- Using an independent samples, the Central Limit Theorem implies that the means of a statistical population are approximately normally distributed, so we can estimate the mean  using the mean of the sample, i.e. use t-test.\n",
    "- We rejected the null hypothesis with a significance level of 0.05. This means that the average duration of rides from the Loop to O'Hare Airport differs on rainy Saturdays from non-rainy Satudays. \n",
    "- Thus, by looking at the numbers, the average duration of rainy Saturday rides is 40.15 minutes, while the average duration of non-rainy Saturday rides is 34.15 minutes. With a difference of 6 minutes between rainy and sunny Saturdays, we conclude that the weather impacts on the flight durations."
   ]
  },
  {
   "cell_type": "markdown",
   "metadata": {},
   "source": [
    "# Overall Conclusion\n",
    "\n"
   ]
  },
  {
   "cell_type": "markdown",
   "metadata": {},
   "source": [
    "- In the first part of this project we imported the two first files and found that the data are fine, no need to preprocess.\n",
    "- In order to slice the data, we've identified the top 10 neighborhoods in terms of drop-offs, by sorting the average trips and picking the 10 highest locations, then sorting the most trips and picking the 10 highest companies. \n",
    "- Then making a barplot of each of the data slices.\n",
    "- In the second part of the project we've imported the third data file, and found 197 duplicates, we dropped. and since the `duration_seconds` can't be 0, We dropped the 0 rows.\n",
    "- We went with the null hypothesis that 'The average duration of rides from the Loop to O'Hare International Airport does not change' and the alternative hypothesis that 'The average duration of rides from the Loop to O'Hare International Airport changes on rainy Saturdays.' and with a significance level of 0.05, we were able to confidently reject the null hypothesis."
   ]
  },
  {
   "cell_type": "markdown",
   "metadata": {},
   "source": [
    "<div class=\"alert alert-info\"> \n",
    "<b>Student's comment</b> \n",
    "    \n",
    "- done</div>"
   ]
  },
  {
   "cell_type": "markdown",
   "metadata": {},
   "source": [
    "<div class=\"alert alert-block alert-warning\">\n",
    "<b>Reviewer's comment v.2</b>\n",
    "    \n",
    "Hibatallah, you have made a lot of correct steps! Your code sometimes looks professional. I like your conclusions and their details! By the way, to be an analyst, we have to make data-based conclusions. Some of them - are a description of data and our findings, others - about technical problems with data, but the most important ones - insights useful for business. It is complicated and interesting. Try to give more  some improvements for business in the following projects.\n",
    "\n",
    "\n",
    "</div>"
   ]
  },
  {
   "cell_type": "markdown",
   "metadata": {},
   "source": [
    "<div class=\"alert alert-danger\" role=\"alert\">\n",
    "<b>Reviewer's comment v.1</b> \n",
    "    \n",
    "✍ However, I would suggest some additional jobs here: \n",
    "1. please explain what criterion you used to test the hypotheses and why;\n",
    "2. please provide overall conclusions and recommendations for the business. \n",
    "\n",
    "</div>"
   ]
  }
 ],
 "metadata": {
  "ExecuteTimeLog": [
   {
    "duration": 1514,
    "start_time": "2021-07-27T00:44:12.933Z"
   },
   {
    "duration": 4668,
    "start_time": "2021-07-27T00:44:54.195Z"
   },
   {
    "duration": 33,
    "start_time": "2021-07-27T01:54:47.631Z"
   },
   {
    "duration": 13,
    "start_time": "2021-07-27T01:55:05.335Z"
   },
   {
    "duration": 8,
    "start_time": "2021-07-27T02:01:23.744Z"
   },
   {
    "duration": 8,
    "start_time": "2021-07-27T02:03:24.287Z"
   },
   {
    "duration": 72,
    "start_time": "2021-07-27T02:04:28.413Z"
   },
   {
    "duration": 77,
    "start_time": "2021-07-27T02:07:06.990Z"
   },
   {
    "duration": 55,
    "start_time": "2021-07-27T02:07:51.464Z"
   },
   {
    "duration": 6115,
    "start_time": "2021-07-27T17:51:09.339Z"
   },
   {
    "duration": 8,
    "start_time": "2021-07-27T17:52:59.552Z"
   },
   {
    "duration": 28,
    "start_time": "2021-07-27T18:17:19.979Z"
   },
   {
    "duration": 475,
    "start_time": "2021-07-27T18:17:23.944Z"
   },
   {
    "duration": 70,
    "start_time": "2021-07-27T18:17:32.782Z"
   },
   {
    "duration": 53,
    "start_time": "2021-07-27T18:17:42.644Z"
   },
   {
    "duration": 5213,
    "start_time": "2021-07-27T18:55:29.335Z"
   },
   {
    "duration": 8,
    "start_time": "2021-07-27T18:55:34.551Z"
   },
   {
    "duration": 35,
    "start_time": "2021-07-27T18:55:34.562Z"
   },
   {
    "duration": 83,
    "start_time": "2021-07-27T18:55:34.600Z"
   },
   {
    "duration": 97,
    "start_time": "2021-07-27T18:55:34.686Z"
   },
   {
    "duration": 54,
    "start_time": "2021-07-27T22:32:02.870Z"
   },
   {
    "duration": 4,
    "start_time": "2021-07-27T22:42:01.671Z"
   },
   {
    "duration": 6,
    "start_time": "2021-07-27T22:42:18.936Z"
   },
   {
    "duration": 8,
    "start_time": "2021-07-27T22:43:23.892Z"
   },
   {
    "duration": 466,
    "start_time": "2021-07-27T23:01:34.031Z"
   },
   {
    "duration": 8,
    "start_time": "2021-07-27T23:01:57.933Z"
   },
   {
    "duration": 841,
    "start_time": "2021-07-27T23:03:44.737Z"
   },
   {
    "duration": 11,
    "start_time": "2021-07-27T23:07:22.280Z"
   },
   {
    "duration": 11,
    "start_time": "2021-07-27T23:08:10.523Z"
   },
   {
    "duration": 2002,
    "start_time": "2021-07-27T23:16:20.835Z"
   },
   {
    "duration": 1990,
    "start_time": "2021-07-27T23:17:25.521Z"
   },
   {
    "duration": 707,
    "start_time": "2021-07-27T23:24:53.565Z"
   },
   {
    "duration": 11,
    "start_time": "2021-07-27T23:26:42.252Z"
   },
   {
    "duration": 275,
    "start_time": "2021-07-27T23:42:42.075Z"
   },
   {
    "duration": 379,
    "start_time": "2021-07-27T23:43:15.657Z"
   },
   {
    "duration": 5224,
    "start_time": "2021-07-27T23:44:21.514Z"
   },
   {
    "duration": 11,
    "start_time": "2021-07-27T23:44:26.741Z"
   },
   {
    "duration": 29,
    "start_time": "2021-07-27T23:44:26.767Z"
   },
   {
    "duration": 72,
    "start_time": "2021-07-27T23:44:26.799Z"
   },
   {
    "duration": 100,
    "start_time": "2021-07-27T23:44:26.874Z"
   },
   {
    "duration": 6,
    "start_time": "2021-07-27T23:44:26.976Z"
   },
   {
    "duration": 11,
    "start_time": "2021-07-27T23:44:26.985Z"
   },
   {
    "duration": 12,
    "start_time": "2021-07-27T23:44:27.000Z"
   },
   {
    "duration": 787,
    "start_time": "2021-07-27T23:44:27.015Z"
   },
   {
    "duration": 2087,
    "start_time": "2021-07-27T23:44:27.804Z"
   },
   {
    "duration": 12,
    "start_time": "2021-07-27T23:44:29.893Z"
   },
   {
    "duration": 1269,
    "start_time": "2021-07-27T23:44:29.907Z"
   },
   {
    "duration": 303,
    "start_time": "2021-07-27T23:44:31.179Z"
   },
   {
    "duration": 362,
    "start_time": "2021-07-27T23:44:31.484Z"
   },
   {
    "duration": 5,
    "start_time": "2021-07-27T23:47:37.607Z"
   },
   {
    "duration": 369,
    "start_time": "2021-07-27T23:47:47.524Z"
   },
   {
    "duration": 590,
    "start_time": "2021-07-27T23:48:46.518Z"
   },
   {
    "duration": 4721,
    "start_time": "2021-07-27T23:52:52.731Z"
   },
   {
    "duration": 14,
    "start_time": "2021-07-27T23:52:57.454Z"
   },
   {
    "duration": 29,
    "start_time": "2021-07-27T23:52:57.472Z"
   },
   {
    "duration": 84,
    "start_time": "2021-07-27T23:52:57.505Z"
   },
   {
    "duration": 100,
    "start_time": "2021-07-27T23:52:57.592Z"
   },
   {
    "duration": 7,
    "start_time": "2021-07-27T23:52:57.694Z"
   },
   {
    "duration": 8,
    "start_time": "2021-07-27T23:52:57.703Z"
   },
   {
    "duration": 51,
    "start_time": "2021-07-27T23:52:57.715Z"
   },
   {
    "duration": 940,
    "start_time": "2021-07-27T23:52:57.769Z"
   },
   {
    "duration": 2836,
    "start_time": "2021-07-27T23:52:58.712Z"
   },
   {
    "duration": 20,
    "start_time": "2021-07-27T23:53:01.551Z"
   },
   {
    "duration": 755,
    "start_time": "2021-07-27T23:53:01.574Z"
   },
   {
    "duration": 425,
    "start_time": "2021-07-27T23:53:02.332Z"
   },
   {
    "duration": 444,
    "start_time": "2021-07-27T23:53:02.759Z"
   },
   {
    "duration": 557,
    "start_time": "2021-07-27T23:56:56.832Z"
   },
   {
    "duration": 13,
    "start_time": "2021-07-28T00:13:13.905Z"
   },
   {
    "duration": 12,
    "start_time": "2021-07-28T00:14:28.501Z"
   },
   {
    "duration": 435,
    "start_time": "2021-07-28T00:17:10.453Z"
   },
   {
    "duration": 323,
    "start_time": "2021-07-28T00:21:42.519Z"
   },
   {
    "duration": 459,
    "start_time": "2021-07-28T00:25:00.065Z"
   },
   {
    "duration": 32,
    "start_time": "2021-07-28T00:29:25.041Z"
   },
   {
    "duration": 34,
    "start_time": "2021-07-28T00:30:02.853Z"
   },
   {
    "duration": 8,
    "start_time": "2021-07-28T00:30:16.123Z"
   },
   {
    "duration": 19,
    "start_time": "2021-07-28T00:32:24.475Z"
   },
   {
    "duration": 287,
    "start_time": "2021-07-28T00:35:19.917Z"
   },
   {
    "duration": 6,
    "start_time": "2021-07-28T00:36:09.267Z"
   },
   {
    "duration": 342,
    "start_time": "2021-07-28T00:36:23.035Z"
   },
   {
    "duration": 8,
    "start_time": "2021-07-28T00:36:28.121Z"
   },
   {
    "duration": 62,
    "start_time": "2021-07-28T00:38:18.258Z"
   },
   {
    "duration": 4679,
    "start_time": "2021-07-28T00:39:05.878Z"
   },
   {
    "duration": 12,
    "start_time": "2021-07-28T00:39:10.559Z"
   },
   {
    "duration": 34,
    "start_time": "2021-07-28T00:39:10.574Z"
   },
   {
    "duration": 71,
    "start_time": "2021-07-28T00:39:10.611Z"
   },
   {
    "duration": 88,
    "start_time": "2021-07-28T00:39:10.684Z"
   },
   {
    "duration": 6,
    "start_time": "2021-07-28T00:39:10.774Z"
   },
   {
    "duration": 15,
    "start_time": "2021-07-28T00:39:10.782Z"
   },
   {
    "duration": 11,
    "start_time": "2021-07-28T00:39:10.801Z"
   },
   {
    "duration": 396,
    "start_time": "2021-07-28T00:39:10.814Z"
   },
   {
    "duration": 338,
    "start_time": "2021-07-28T00:39:11.212Z"
   },
   {
    "duration": 24,
    "start_time": "2021-07-28T00:39:11.552Z"
   },
   {
    "duration": 93,
    "start_time": "2021-07-28T00:39:11.579Z"
   },
   {
    "duration": 7,
    "start_time": "2021-07-28T00:39:11.675Z"
   },
   {
    "duration": 16,
    "start_time": "2021-07-28T00:39:11.684Z"
   },
   {
    "duration": 4,
    "start_time": "2021-07-28T00:45:07.666Z"
   },
   {
    "duration": 3,
    "start_time": "2021-07-28T00:47:07.231Z"
   },
   {
    "duration": 4,
    "start_time": "2021-07-28T00:47:23.593Z"
   },
   {
    "duration": 5,
    "start_time": "2021-07-28T00:47:25.706Z"
   },
   {
    "duration": 4,
    "start_time": "2021-07-28T00:47:53.416Z"
   },
   {
    "duration": 8,
    "start_time": "2021-07-28T00:49:25.592Z"
   },
   {
    "duration": 8,
    "start_time": "2021-07-28T00:49:55.046Z"
   },
   {
    "duration": 6,
    "start_time": "2021-07-28T00:50:42.019Z"
   },
   {
    "duration": 6,
    "start_time": "2021-07-28T00:50:54.589Z"
   },
   {
    "duration": 458,
    "start_time": "2021-07-28T00:51:29.558Z"
   },
   {
    "duration": 3257,
    "start_time": "2021-07-28T00:52:00.880Z"
   },
   {
    "duration": 10,
    "start_time": "2021-07-28T00:52:12.018Z"
   },
   {
    "duration": 4723,
    "start_time": "2021-07-28T00:53:40.524Z"
   },
   {
    "duration": 8,
    "start_time": "2021-07-28T00:53:45.250Z"
   },
   {
    "duration": 28,
    "start_time": "2021-07-28T00:53:45.267Z"
   },
   {
    "duration": 79,
    "start_time": "2021-07-28T00:53:45.298Z"
   },
   {
    "duration": 88,
    "start_time": "2021-07-28T00:53:45.380Z"
   },
   {
    "duration": 6,
    "start_time": "2021-07-28T00:53:45.470Z"
   },
   {
    "duration": 19,
    "start_time": "2021-07-28T00:53:45.478Z"
   },
   {
    "duration": 10,
    "start_time": "2021-07-28T00:53:45.501Z"
   },
   {
    "duration": 417,
    "start_time": "2021-07-28T00:53:45.514Z"
   },
   {
    "duration": 337,
    "start_time": "2021-07-28T00:53:45.933Z"
   },
   {
    "duration": 28,
    "start_time": "2021-07-28T00:53:46.273Z"
   },
   {
    "duration": 79,
    "start_time": "2021-07-28T00:53:46.303Z"
   },
   {
    "duration": 7,
    "start_time": "2021-07-28T00:53:46.384Z"
   },
   {
    "duration": 12,
    "start_time": "2021-07-28T00:53:46.393Z"
   },
   {
    "duration": 6,
    "start_time": "2021-07-28T00:53:46.408Z"
   },
   {
    "duration": 5,
    "start_time": "2021-07-28T00:53:46.417Z"
   },
   {
    "duration": 51,
    "start_time": "2021-07-28T00:53:46.424Z"
   },
   {
    "duration": 8,
    "start_time": "2021-07-28T00:53:46.477Z"
   },
   {
    "duration": 7,
    "start_time": "2021-07-28T00:53:46.487Z"
   },
   {
    "duration": 10,
    "start_time": "2021-07-28T00:53:46.496Z"
   },
   {
    "duration": 17,
    "start_time": "2021-07-28T00:55:26.455Z"
   },
   {
    "duration": 8,
    "start_time": "2021-07-28T00:55:38.822Z"
   },
   {
    "duration": 8,
    "start_time": "2021-07-28T00:56:02.145Z"
   },
   {
    "duration": 4667,
    "start_time": "2021-07-28T00:56:33.578Z"
   },
   {
    "duration": 8,
    "start_time": "2021-07-28T00:56:38.247Z"
   },
   {
    "duration": 36,
    "start_time": "2021-07-28T00:56:38.258Z"
   },
   {
    "duration": 74,
    "start_time": "2021-07-28T00:56:38.297Z"
   },
   {
    "duration": 51,
    "start_time": "2021-07-28T00:56:38.373Z"
   },
   {
    "duration": 43,
    "start_time": "2021-07-28T00:56:38.426Z"
   },
   {
    "duration": 20,
    "start_time": "2021-07-28T00:56:38.471Z"
   },
   {
    "duration": 12,
    "start_time": "2021-07-28T00:56:38.495Z"
   },
   {
    "duration": 402,
    "start_time": "2021-07-28T00:56:38.510Z"
   },
   {
    "duration": 357,
    "start_time": "2021-07-28T00:56:38.914Z"
   },
   {
    "duration": 24,
    "start_time": "2021-07-28T00:56:39.274Z"
   },
   {
    "duration": 23,
    "start_time": "2021-07-28T00:56:39.301Z"
   },
   {
    "duration": 8,
    "start_time": "2021-07-28T00:56:39.327Z"
   },
   {
    "duration": 11,
    "start_time": "2021-07-28T00:56:39.338Z"
   },
   {
    "duration": 7,
    "start_time": "2021-07-28T00:56:39.368Z"
   },
   {
    "duration": 13,
    "start_time": "2021-07-28T00:56:39.377Z"
   },
   {
    "duration": 10,
    "start_time": "2021-07-28T00:56:39.392Z"
   },
   {
    "duration": 9,
    "start_time": "2021-07-28T00:56:39.404Z"
   },
   {
    "duration": 9,
    "start_time": "2021-07-28T00:56:39.415Z"
   },
   {
    "duration": 13,
    "start_time": "2021-07-28T00:56:39.427Z"
   },
   {
    "duration": 27,
    "start_time": "2021-07-28T00:56:39.443Z"
   },
   {
    "duration": 15,
    "start_time": "2021-07-28T00:56:39.472Z"
   },
   {
    "duration": 8048,
    "start_time": "2021-07-28T05:39:43.721Z"
   },
   {
    "duration": 8,
    "start_time": "2021-07-28T05:39:51.771Z"
   },
   {
    "duration": 35,
    "start_time": "2021-07-28T05:39:51.782Z"
   },
   {
    "duration": 91,
    "start_time": "2021-07-28T05:39:51.821Z"
   },
   {
    "duration": 88,
    "start_time": "2021-07-28T05:39:51.914Z"
   },
   {
    "duration": 8,
    "start_time": "2021-07-28T05:39:52.005Z"
   },
   {
    "duration": 55,
    "start_time": "2021-07-28T05:39:52.016Z"
   },
   {
    "duration": 12,
    "start_time": "2021-07-28T05:39:52.075Z"
   },
   {
    "duration": 416,
    "start_time": "2021-07-28T05:39:52.090Z"
   },
   {
    "duration": 343,
    "start_time": "2021-07-28T05:39:52.508Z"
   },
   {
    "duration": 32,
    "start_time": "2021-07-28T05:39:52.853Z"
   },
   {
    "duration": 17,
    "start_time": "2021-07-28T05:39:52.888Z"
   },
   {
    "duration": 9,
    "start_time": "2021-07-28T05:39:52.907Z"
   },
   {
    "duration": 9,
    "start_time": "2021-07-28T05:39:52.919Z"
   },
   {
    "duration": 39,
    "start_time": "2021-07-28T05:39:52.931Z"
   },
   {
    "duration": 9,
    "start_time": "2021-07-28T05:39:52.972Z"
   },
   {
    "duration": 8,
    "start_time": "2021-07-28T05:39:52.983Z"
   },
   {
    "duration": 5,
    "start_time": "2021-07-28T05:39:52.994Z"
   },
   {
    "duration": 11,
    "start_time": "2021-07-28T05:39:53.001Z"
   },
   {
    "duration": 8,
    "start_time": "2021-07-28T05:39:53.014Z"
   },
   {
    "duration": 44,
    "start_time": "2021-07-28T05:39:53.024Z"
   },
   {
    "duration": 8,
    "start_time": "2021-07-28T05:39:53.071Z"
   },
   {
    "duration": 4841,
    "start_time": "2021-07-28T06:19:56.421Z"
   },
   {
    "duration": 8,
    "start_time": "2021-07-28T06:20:01.268Z"
   },
   {
    "duration": 45,
    "start_time": "2021-07-28T06:20:01.279Z"
   },
   {
    "duration": 68,
    "start_time": "2021-07-28T06:20:01.326Z"
   },
   {
    "duration": 91,
    "start_time": "2021-07-28T06:20:01.396Z"
   },
   {
    "duration": 6,
    "start_time": "2021-07-28T06:20:01.490Z"
   },
   {
    "duration": 27,
    "start_time": "2021-07-28T06:20:01.499Z"
   },
   {
    "duration": 39,
    "start_time": "2021-07-28T06:20:01.530Z"
   },
   {
    "duration": 429,
    "start_time": "2021-07-28T06:20:01.572Z"
   },
   {
    "duration": 353,
    "start_time": "2021-07-28T06:20:02.004Z"
   },
   {
    "duration": 32,
    "start_time": "2021-07-28T06:20:02.368Z"
   },
   {
    "duration": 26,
    "start_time": "2021-07-28T06:20:02.403Z"
   },
   {
    "duration": 21,
    "start_time": "2021-07-28T06:20:02.431Z"
   },
   {
    "duration": 23,
    "start_time": "2021-07-28T06:20:02.455Z"
   },
   {
    "duration": 14,
    "start_time": "2021-07-28T06:20:02.480Z"
   },
   {
    "duration": 18,
    "start_time": "2021-07-28T06:20:02.497Z"
   },
   {
    "duration": 14,
    "start_time": "2021-07-28T06:20:02.517Z"
   },
   {
    "duration": 9,
    "start_time": "2021-07-28T06:20:02.533Z"
   },
   {
    "duration": 45,
    "start_time": "2021-07-28T06:20:02.544Z"
   },
   {
    "duration": 29,
    "start_time": "2021-07-28T06:20:02.591Z"
   },
   {
    "duration": 23,
    "start_time": "2021-07-28T06:20:02.622Z"
   },
   {
    "duration": 16,
    "start_time": "2021-07-28T06:20:02.648Z"
   },
   {
    "duration": 5266,
    "start_time": "2021-07-28T06:41:32.481Z"
   },
   {
    "duration": 9,
    "start_time": "2021-07-28T06:41:37.749Z"
   },
   {
    "duration": 30,
    "start_time": "2021-07-28T06:41:37.769Z"
   },
   {
    "duration": 84,
    "start_time": "2021-07-28T06:41:37.802Z"
   },
   {
    "duration": 99,
    "start_time": "2021-07-28T06:41:37.889Z"
   },
   {
    "duration": 6,
    "start_time": "2021-07-28T06:41:37.990Z"
   },
   {
    "duration": 17,
    "start_time": "2021-07-28T06:41:38.000Z"
   },
   {
    "duration": 12,
    "start_time": "2021-07-28T06:41:38.068Z"
   },
   {
    "duration": 415,
    "start_time": "2021-07-28T06:41:38.084Z"
   },
   {
    "duration": 353,
    "start_time": "2021-07-28T06:41:38.501Z"
   },
   {
    "duration": 24,
    "start_time": "2021-07-28T06:41:38.856Z"
   },
   {
    "duration": 18,
    "start_time": "2021-07-28T06:41:38.883Z"
   },
   {
    "duration": 9,
    "start_time": "2021-07-28T06:41:38.903Z"
   },
   {
    "duration": 8,
    "start_time": "2021-07-28T06:41:38.915Z"
   },
   {
    "duration": 9,
    "start_time": "2021-07-28T06:41:38.925Z"
   },
   {
    "duration": 10,
    "start_time": "2021-07-28T06:41:38.937Z"
   },
   {
    "duration": 5,
    "start_time": "2021-07-28T06:41:38.949Z"
   },
   {
    "duration": 15,
    "start_time": "2021-07-28T06:41:38.957Z"
   },
   {
    "duration": 8,
    "start_time": "2021-07-28T06:41:38.975Z"
   },
   {
    "duration": 9,
    "start_time": "2021-07-28T06:41:38.986Z"
   },
   {
    "duration": 5,
    "start_time": "2021-07-28T06:41:38.998Z"
   },
   {
    "duration": 8,
    "start_time": "2021-07-28T06:41:39.006Z"
   },
   {
    "duration": 3904,
    "start_time": "2021-07-28T17:53:44.405Z"
   },
   {
    "duration": 6,
    "start_time": "2021-07-28T17:53:58.823Z"
   },
   {
    "duration": 31,
    "start_time": "2021-07-28T17:54:08.428Z"
   },
   {
    "duration": 41,
    "start_time": "2021-07-28T17:54:13.656Z"
   },
   {
    "duration": 34,
    "start_time": "2021-07-28T17:54:24.972Z"
   },
   {
    "duration": 4,
    "start_time": "2021-07-28T18:58:37.367Z"
   },
   {
    "duration": 3018,
    "start_time": "2021-07-28T21:17:51.291Z"
   },
   {
    "duration": 6,
    "start_time": "2021-07-28T21:18:05.246Z"
   },
   {
    "duration": 34,
    "start_time": "2021-07-28T21:18:10.727Z"
   },
   {
    "duration": 41,
    "start_time": "2021-07-28T21:18:15.272Z"
   },
   {
    "duration": 39,
    "start_time": "2021-07-28T21:18:24.526Z"
   },
   {
    "duration": 4,
    "start_time": "2021-07-28T21:18:35.747Z"
   },
   {
    "duration": 10,
    "start_time": "2021-07-28T21:18:47.601Z"
   },
   {
    "duration": 10,
    "start_time": "2021-07-28T21:20:13.154Z"
   },
   {
    "duration": 263,
    "start_time": "2021-07-28T21:20:27.273Z"
   },
   {
    "duration": 9,
    "start_time": "2021-07-28T22:01:14.824Z"
   },
   {
    "duration": 4207,
    "start_time": "2021-07-29T13:30:28.637Z"
   },
   {
    "duration": 5,
    "start_time": "2021-07-29T13:30:32.846Z"
   },
   {
    "duration": 32,
    "start_time": "2021-07-29T13:30:32.853Z"
   },
   {
    "duration": 37,
    "start_time": "2021-07-29T13:30:32.887Z"
   },
   {
    "duration": 32,
    "start_time": "2021-07-29T13:30:32.926Z"
   },
   {
    "duration": 33,
    "start_time": "2021-07-29T13:30:32.960Z"
   },
   {
    "duration": 12,
    "start_time": "2021-07-29T13:30:32.995Z"
   },
   {
    "duration": 9,
    "start_time": "2021-07-29T13:30:33.009Z"
   },
   {
    "duration": 9,
    "start_time": "2021-07-29T13:30:33.020Z"
   },
   {
    "duration": 228,
    "start_time": "2021-07-29T13:30:33.031Z"
   },
   {
    "duration": 187,
    "start_time": "2021-07-29T13:30:33.261Z"
   },
   {
    "duration": 25,
    "start_time": "2021-07-29T13:30:33.450Z"
   },
   {
    "duration": 13,
    "start_time": "2021-07-29T13:30:33.477Z"
   },
   {
    "duration": 5,
    "start_time": "2021-07-29T13:30:33.492Z"
   },
   {
    "duration": 7,
    "start_time": "2021-07-29T13:30:33.498Z"
   },
   {
    "duration": 5,
    "start_time": "2021-07-29T13:30:33.507Z"
   },
   {
    "duration": 6,
    "start_time": "2021-07-29T13:30:33.514Z"
   },
   {
    "duration": 6,
    "start_time": "2021-07-29T13:30:33.522Z"
   },
   {
    "duration": 9,
    "start_time": "2021-07-29T13:30:33.529Z"
   },
   {
    "duration": 11,
    "start_time": "2021-07-29T13:30:33.540Z"
   },
   {
    "duration": 11,
    "start_time": "2021-07-29T13:30:33.552Z"
   },
   {
    "duration": 8,
    "start_time": "2021-07-29T13:30:33.564Z"
   },
   {
    "duration": 9,
    "start_time": "2021-07-29T13:30:33.574Z"
   },
   {
    "duration": 5,
    "start_time": "2021-07-29T13:32:37.669Z"
   },
   {
    "duration": 9,
    "start_time": "2021-07-29T13:32:45.785Z"
   },
   {
    "duration": 206,
    "start_time": "2021-07-29T13:58:53.651Z"
   },
   {
    "duration": 177,
    "start_time": "2021-07-29T14:06:38.965Z"
   },
   {
    "duration": 180,
    "start_time": "2021-07-29T14:06:50.129Z"
   },
   {
    "duration": 42,
    "start_time": "2021-07-29T14:07:37.287Z"
   },
   {
    "duration": 42,
    "start_time": "2021-07-29T14:09:29.536Z"
   },
   {
    "duration": 43,
    "start_time": "2021-07-29T14:09:59.064Z"
   },
   {
    "duration": 3169,
    "start_time": "2021-07-29T16:34:03.672Z"
   },
   {
    "duration": 5,
    "start_time": "2021-07-29T16:34:09.325Z"
   },
   {
    "duration": 28,
    "start_time": "2021-07-29T16:34:13.531Z"
   },
   {
    "duration": 46,
    "start_time": "2021-07-29T16:34:17.142Z"
   },
   {
    "duration": 35,
    "start_time": "2021-07-29T16:34:22.130Z"
   },
   {
    "duration": 5,
    "start_time": "2021-07-29T16:34:28.318Z"
   },
   {
    "duration": 9,
    "start_time": "2021-07-29T16:34:31.846Z"
   },
   {
    "duration": 9,
    "start_time": "2021-07-29T16:34:35.884Z"
   },
   {
    "duration": 199,
    "start_time": "2021-07-29T16:34:40.803Z"
   },
   {
    "duration": 189,
    "start_time": "2021-07-29T16:34:52.811Z"
   },
   {
    "duration": 25,
    "start_time": "2021-07-29T16:35:00.921Z"
   },
   {
    "duration": 38,
    "start_time": "2021-07-29T16:35:04.800Z"
   },
   {
    "duration": 8,
    "start_time": "2021-07-29T16:36:56.974Z"
   },
   {
    "duration": 7,
    "start_time": "2021-07-29T16:37:03.542Z"
   },
   {
    "duration": 6,
    "start_time": "2021-07-29T16:37:09.980Z"
   },
   {
    "duration": 7,
    "start_time": "2021-07-29T16:38:55.585Z"
   },
   {
    "duration": 7,
    "start_time": "2021-07-29T16:39:01.206Z"
   },
   {
    "duration": 13,
    "start_time": "2021-07-29T16:40:43.468Z"
   },
   {
    "duration": 334,
    "start_time": "2021-07-29T16:41:44.443Z"
   },
   {
    "duration": 10,
    "start_time": "2021-07-29T16:41:49.884Z"
   },
   {
    "duration": 7,
    "start_time": "2021-07-29T16:42:16.969Z"
   },
   {
    "duration": 10,
    "start_time": "2021-07-29T16:42:26.798Z"
   },
   {
    "duration": 6,
    "start_time": "2021-07-29T16:42:46.856Z"
   },
   {
    "duration": 11,
    "start_time": "2021-07-29T16:47:11.749Z"
   },
   {
    "duration": 12,
    "start_time": "2021-07-29T16:47:27.927Z"
   },
   {
    "duration": 7,
    "start_time": "2021-07-29T17:06:21.571Z"
   },
   {
    "duration": 6,
    "start_time": "2021-07-29T17:06:36.195Z"
   },
   {
    "duration": 6,
    "start_time": "2021-07-29T17:06:57.011Z"
   },
   {
    "duration": 7,
    "start_time": "2021-07-29T17:07:15.016Z"
   },
   {
    "duration": 7,
    "start_time": "2021-07-29T17:08:44.335Z"
   },
   {
    "duration": 11,
    "start_time": "2021-07-29T17:09:08.818Z"
   },
   {
    "duration": 8,
    "start_time": "2021-07-29T17:09:36.482Z"
   },
   {
    "duration": 7,
    "start_time": "2021-07-29T17:09:45.586Z"
   },
   {
    "duration": 4,
    "start_time": "2021-07-29T17:09:56.757Z"
   },
   {
    "duration": 7,
    "start_time": "2021-07-29T17:10:04.815Z"
   },
   {
    "duration": 10,
    "start_time": "2021-07-29T17:10:12.665Z"
   },
   {
    "duration": 11,
    "start_time": "2021-07-29T17:10:22.887Z"
   },
   {
    "duration": 6,
    "start_time": "2021-07-29T17:10:34.415Z"
   },
   {
    "duration": 11,
    "start_time": "2021-07-29T17:10:48.355Z"
   },
   {
    "duration": 10,
    "start_time": "2021-07-29T17:12:01.680Z"
   },
   {
    "duration": 7,
    "start_time": "2021-07-29T17:12:12.671Z"
   },
   {
    "duration": 7,
    "start_time": "2021-07-29T17:12:23.241Z"
   },
   {
    "duration": 12,
    "start_time": "2021-07-29T17:13:32.504Z"
   },
   {
    "duration": 7,
    "start_time": "2021-07-29T17:18:03.944Z"
   },
   {
    "duration": 13,
    "start_time": "2021-07-29T17:18:06.218Z"
   },
   {
    "duration": 3038,
    "start_time": "2021-07-29T17:18:23.735Z"
   },
   {
    "duration": 6,
    "start_time": "2021-07-29T17:18:29.345Z"
   },
   {
    "duration": 28,
    "start_time": "2021-07-29T17:18:33.065Z"
   },
   {
    "duration": 40,
    "start_time": "2021-07-29T17:18:35.826Z"
   },
   {
    "duration": 32,
    "start_time": "2021-07-29T17:18:41.773Z"
   },
   {
    "duration": 5,
    "start_time": "2021-07-29T17:18:48.452Z"
   },
   {
    "duration": 9,
    "start_time": "2021-07-29T17:18:52.878Z"
   },
   {
    "duration": 9,
    "start_time": "2021-07-29T17:18:56.733Z"
   },
   {
    "duration": 198,
    "start_time": "2021-07-29T17:19:00.196Z"
   },
   {
    "duration": 196,
    "start_time": "2021-07-29T17:19:04.178Z"
   },
   {
    "duration": 25,
    "start_time": "2021-07-29T17:19:08.400Z"
   },
   {
    "duration": 39,
    "start_time": "2021-07-29T17:19:11.369Z"
   },
   {
    "duration": 5,
    "start_time": "2021-07-29T17:19:15.608Z"
   },
   {
    "duration": 6,
    "start_time": "2021-07-29T17:19:18.652Z"
   },
   {
    "duration": 12,
    "start_time": "2021-07-29T17:19:22.044Z"
   },
   {
    "duration": 8,
    "start_time": "2021-07-29T17:19:36.425Z"
   },
   {
    "duration": 2,
    "start_time": "2021-07-29T17:21:54.615Z"
   },
   {
    "duration": 4,
    "start_time": "2021-07-29T17:22:26.767Z"
   },
   {
    "duration": 3,
    "start_time": "2021-07-29T17:22:40.776Z"
   },
   {
    "duration": 323,
    "start_time": "2021-07-29T17:26:57.055Z"
   },
   {
    "duration": 164,
    "start_time": "2021-07-29T17:27:08.070Z"
   },
   {
    "duration": 115,
    "start_time": "2021-07-29T17:27:42.087Z"
   },
   {
    "duration": 303,
    "start_time": "2021-07-29T17:32:02.507Z"
   },
   {
    "duration": 5,
    "start_time": "2021-07-29T17:32:32.374Z"
   },
   {
    "duration": 5,
    "start_time": "2021-07-29T17:32:37.570Z"
   },
   {
    "duration": 164,
    "start_time": "2021-07-29T17:32:48.239Z"
   },
   {
    "duration": 115,
    "start_time": "2021-07-29T17:32:54.647Z"
   },
   {
    "duration": 277,
    "start_time": "2021-07-29T17:43:58.289Z"
   },
   {
    "duration": 166,
    "start_time": "2021-07-29T17:45:06.378Z"
   },
   {
    "duration": 480,
    "start_time": "2021-07-29T17:45:27.507Z"
   },
   {
    "duration": 399,
    "start_time": "2021-07-29T17:47:05.604Z"
   },
   {
    "duration": 170,
    "start_time": "2021-07-29T17:47:12.193Z"
   },
   {
    "duration": 192,
    "start_time": "2021-07-29T17:47:27.930Z"
   },
   {
    "duration": 116,
    "start_time": "2021-07-29T17:48:05.061Z"
   },
   {
    "duration": 315,
    "start_time": "2021-07-29T17:52:36.265Z"
   },
   {
    "duration": 234,
    "start_time": "2021-07-29T17:59:22.457Z"
   },
   {
    "duration": 5,
    "start_time": "2021-07-29T17:59:30.879Z"
   },
   {
    "duration": 6,
    "start_time": "2021-07-29T17:59:36.480Z"
   },
   {
    "duration": 4,
    "start_time": "2021-07-29T17:59:40.150Z"
   },
   {
    "duration": 9,
    "start_time": "2021-07-29T18:00:30.401Z"
   },
   {
    "duration": 4,
    "start_time": "2021-07-29T18:00:58.201Z"
   },
   {
    "duration": 4,
    "start_time": "2021-07-29T18:01:11.862Z"
   },
   {
    "duration": 5,
    "start_time": "2021-07-29T18:02:02.200Z"
   },
   {
    "duration": 244,
    "start_time": "2021-07-29T18:02:16.568Z"
   },
   {
    "duration": 982,
    "start_time": "2021-07-29T18:02:27.160Z"
   },
   {
    "duration": 1022,
    "start_time": "2021-07-29T18:03:51.263Z"
   },
   {
    "duration": 1364,
    "start_time": "2021-07-29T18:03:59.704Z"
   },
   {
    "duration": 83,
    "start_time": "2021-07-29T18:04:04.988Z"
   },
   {
    "duration": 9,
    "start_time": "2021-07-29T18:04:42.057Z"
   },
   {
    "duration": 12,
    "start_time": "2021-07-29T18:04:59.346Z"
   },
   {
    "duration": 11,
    "start_time": "2021-07-29T18:05:11.337Z"
   },
   {
    "duration": 8,
    "start_time": "2021-07-29T18:05:17.734Z"
   },
   {
    "duration": 7,
    "start_time": "2021-07-29T18:05:36.512Z"
   },
   {
    "duration": 3,
    "start_time": "2021-07-29T18:19:24.901Z"
   },
   {
    "duration": 3,
    "start_time": "2021-07-29T18:19:26.878Z"
   },
   {
    "duration": 6,
    "start_time": "2021-07-29T18:19:29.445Z"
   },
   {
    "duration": 6,
    "start_time": "2021-07-29T18:19:31.399Z"
   },
   {
    "duration": 5,
    "start_time": "2021-07-29T18:19:34.210Z"
   },
   {
    "duration": 5,
    "start_time": "2021-07-29T18:19:36.423Z"
   },
   {
    "duration": 6,
    "start_time": "2021-07-30T02:11:46.254Z"
   },
   {
    "duration": 6,
    "start_time": "2021-07-30T02:12:08.244Z"
   },
   {
    "duration": 6,
    "start_time": "2021-07-30T02:14:09.492Z"
   },
   {
    "duration": 3052,
    "start_time": "2021-07-30T02:32:21.575Z"
   },
   {
    "duration": 4,
    "start_time": "2021-07-30T02:32:24.629Z"
   },
   {
    "duration": 30,
    "start_time": "2021-07-30T02:32:24.635Z"
   },
   {
    "duration": 36,
    "start_time": "2021-07-30T02:32:24.666Z"
   },
   {
    "duration": 29,
    "start_time": "2021-07-30T02:32:24.703Z"
   },
   {
    "duration": 4,
    "start_time": "2021-07-30T02:32:24.733Z"
   },
   {
    "duration": 11,
    "start_time": "2021-07-30T02:32:24.738Z"
   },
   {
    "duration": 3,
    "start_time": "2021-07-30T02:32:24.751Z"
   },
   {
    "duration": 36,
    "start_time": "2021-07-30T02:32:24.756Z"
   },
   {
    "duration": 199,
    "start_time": "2021-07-30T02:32:24.794Z"
   },
   {
    "duration": 173,
    "start_time": "2021-07-30T02:32:24.995Z"
   },
   {
    "duration": 25,
    "start_time": "2021-07-30T02:32:25.169Z"
   },
   {
    "duration": 36,
    "start_time": "2021-07-30T02:32:25.195Z"
   },
   {
    "duration": 4,
    "start_time": "2021-07-30T02:32:25.232Z"
   },
   {
    "duration": 9,
    "start_time": "2021-07-30T02:32:25.237Z"
   },
   {
    "duration": 11,
    "start_time": "2021-07-30T02:32:25.248Z"
   },
   {
    "duration": 36,
    "start_time": "2021-07-30T02:32:25.260Z"
   },
   {
    "duration": 4,
    "start_time": "2021-07-30T02:32:25.298Z"
   },
   {
    "duration": 5,
    "start_time": "2021-07-30T02:32:25.303Z"
   },
   {
    "duration": 186,
    "start_time": "2021-07-30T02:32:25.310Z"
   },
   {
    "duration": 123,
    "start_time": "2021-07-30T02:32:25.497Z"
   },
   {
    "duration": 5,
    "start_time": "2021-07-30T02:32:25.621Z"
   },
   {
    "duration": 4,
    "start_time": "2021-07-30T02:32:25.630Z"
   },
   {
    "duration": 7,
    "start_time": "2021-07-30T02:32:25.636Z"
   },
   {
    "duration": 10,
    "start_time": "2021-07-30T02:32:25.644Z"
   },
   {
    "duration": 6,
    "start_time": "2021-07-30T02:32:25.655Z"
   },
   {
    "duration": 3,
    "start_time": "2021-07-30T02:32:25.691Z"
   },
   {
    "duration": 8,
    "start_time": "2021-07-30T02:32:25.696Z"
   },
   {
    "duration": 8,
    "start_time": "2021-07-30T02:32:25.706Z"
   },
   {
    "duration": 9,
    "start_time": "2021-07-30T02:32:25.716Z"
   },
   {
    "duration": 12,
    "start_time": "2021-07-30T02:32:25.726Z"
   },
   {
    "duration": 3040,
    "start_time": "2021-07-30T02:51:17.487Z"
   },
   {
    "duration": 5,
    "start_time": "2021-07-30T02:51:20.528Z"
   },
   {
    "duration": 33,
    "start_time": "2021-07-30T02:51:20.535Z"
   },
   {
    "duration": 36,
    "start_time": "2021-07-30T02:51:20.570Z"
   },
   {
    "duration": 30,
    "start_time": "2021-07-30T02:51:20.607Z"
   },
   {
    "duration": 4,
    "start_time": "2021-07-30T02:51:20.638Z"
   },
   {
    "duration": 10,
    "start_time": "2021-07-30T02:51:20.643Z"
   },
   {
    "duration": 5,
    "start_time": "2021-07-30T02:51:20.655Z"
   },
   {
    "duration": 11,
    "start_time": "2021-07-30T02:51:20.692Z"
   },
   {
    "duration": 201,
    "start_time": "2021-07-30T02:51:20.704Z"
   },
   {
    "duration": 177,
    "start_time": "2021-07-30T02:51:20.907Z"
   },
   {
    "duration": 28,
    "start_time": "2021-07-30T02:51:21.086Z"
   },
   {
    "duration": 35,
    "start_time": "2021-07-30T02:51:21.116Z"
   },
   {
    "duration": 4,
    "start_time": "2021-07-30T02:51:21.152Z"
   },
   {
    "duration": 12,
    "start_time": "2021-07-30T02:51:21.158Z"
   },
   {
    "duration": 13,
    "start_time": "2021-07-30T02:51:21.171Z"
   },
   {
    "duration": 11,
    "start_time": "2021-07-30T02:51:21.185Z"
   },
   {
    "duration": 5,
    "start_time": "2021-07-30T02:51:21.197Z"
   },
   {
    "duration": 10,
    "start_time": "2021-07-30T02:51:21.204Z"
   },
   {
    "duration": 178,
    "start_time": "2021-07-30T02:51:21.215Z"
   },
   {
    "duration": 122,
    "start_time": "2021-07-30T02:51:21.395Z"
   },
   {
    "duration": 4,
    "start_time": "2021-07-30T02:51:21.519Z"
   },
   {
    "duration": 5,
    "start_time": "2021-07-30T02:51:21.526Z"
   },
   {
    "duration": 8,
    "start_time": "2021-07-30T02:51:21.532Z"
   },
   {
    "duration": 9,
    "start_time": "2021-07-30T02:51:21.541Z"
   },
   {
    "duration": 3,
    "start_time": "2021-07-30T02:51:21.551Z"
   },
   {
    "duration": 7,
    "start_time": "2021-07-30T02:51:21.556Z"
   },
   {
    "duration": 30,
    "start_time": "2021-07-30T02:51:21.564Z"
   },
   {
    "duration": 8,
    "start_time": "2021-07-30T02:51:21.595Z"
   },
   {
    "duration": 11,
    "start_time": "2021-07-30T02:51:21.604Z"
   },
   {
    "duration": 12,
    "start_time": "2021-07-30T02:51:21.616Z"
   },
   {
    "duration": 2956,
    "start_time": "2021-07-30T02:54:08.967Z"
   },
   {
    "duration": 5,
    "start_time": "2021-07-30T02:54:11.925Z"
   },
   {
    "duration": 30,
    "start_time": "2021-07-30T02:54:11.932Z"
   },
   {
    "duration": 41,
    "start_time": "2021-07-30T02:54:11.964Z"
   },
   {
    "duration": 35,
    "start_time": "2021-07-30T02:54:12.007Z"
   },
   {
    "duration": 4,
    "start_time": "2021-07-30T02:54:12.043Z"
   },
   {
    "duration": 44,
    "start_time": "2021-07-30T02:54:12.049Z"
   },
   {
    "duration": 4,
    "start_time": "2021-07-30T02:54:12.095Z"
   },
   {
    "duration": 12,
    "start_time": "2021-07-30T02:54:12.101Z"
   },
   {
    "duration": 212,
    "start_time": "2021-07-30T02:54:12.115Z"
   },
   {
    "duration": 181,
    "start_time": "2021-07-30T02:54:12.329Z"
   },
   {
    "duration": 25,
    "start_time": "2021-07-30T02:54:12.511Z"
   },
   {
    "duration": 39,
    "start_time": "2021-07-30T02:54:12.538Z"
   },
   {
    "duration": 14,
    "start_time": "2021-07-30T02:54:12.579Z"
   },
   {
    "duration": 7,
    "start_time": "2021-07-30T02:54:12.595Z"
   },
   {
    "duration": 12,
    "start_time": "2021-07-30T02:54:12.603Z"
   },
   {
    "duration": 6,
    "start_time": "2021-07-30T02:54:12.616Z"
   },
   {
    "duration": 8,
    "start_time": "2021-07-30T02:54:12.623Z"
   },
   {
    "duration": 12,
    "start_time": "2021-07-30T02:54:12.632Z"
   },
   {
    "duration": 198,
    "start_time": "2021-07-30T02:54:12.645Z"
   },
   {
    "duration": 129,
    "start_time": "2021-07-30T02:54:12.845Z"
   },
   {
    "duration": 15,
    "start_time": "2021-07-30T02:54:12.976Z"
   },
   {
    "duration": 4,
    "start_time": "2021-07-30T02:54:12.993Z"
   },
   {
    "duration": 12,
    "start_time": "2021-07-30T02:54:12.999Z"
   },
   {
    "duration": 9,
    "start_time": "2021-07-30T02:54:13.012Z"
   },
   {
    "duration": 6,
    "start_time": "2021-07-30T02:54:13.022Z"
   },
   {
    "duration": 11,
    "start_time": "2021-07-30T02:54:13.029Z"
   },
   {
    "duration": 13,
    "start_time": "2021-07-30T02:54:13.041Z"
   },
   {
    "duration": 13,
    "start_time": "2021-07-30T02:54:13.055Z"
   },
   {
    "duration": 9,
    "start_time": "2021-07-30T02:54:13.069Z"
   },
   {
    "duration": 15,
    "start_time": "2021-07-30T02:54:13.079Z"
   },
   {
    "duration": 6636,
    "start_time": "2021-07-30T04:19:31.736Z"
   },
   {
    "duration": 8,
    "start_time": "2021-07-30T04:19:38.375Z"
   },
   {
    "duration": 55,
    "start_time": "2021-07-30T04:19:38.387Z"
   },
   {
    "duration": 59,
    "start_time": "2021-07-30T04:19:38.445Z"
   },
   {
    "duration": 86,
    "start_time": "2021-07-30T04:19:38.507Z"
   },
   {
    "duration": 6,
    "start_time": "2021-07-30T04:19:38.595Z"
   },
   {
    "duration": 17,
    "start_time": "2021-07-30T04:19:38.603Z"
   },
   {
    "duration": 7,
    "start_time": "2021-07-30T04:19:38.622Z"
   },
   {
    "duration": 16,
    "start_time": "2021-07-30T04:19:38.633Z"
   },
   {
    "duration": 369,
    "start_time": "2021-07-30T04:19:38.685Z"
   },
   {
    "duration": 322,
    "start_time": "2021-07-30T04:19:39.056Z"
   },
   {
    "duration": 29,
    "start_time": "2021-07-30T04:19:39.385Z"
   },
   {
    "duration": 82,
    "start_time": "2021-07-30T04:19:39.416Z"
   },
   {
    "duration": 7,
    "start_time": "2021-07-30T04:19:39.501Z"
   },
   {
    "duration": 15,
    "start_time": "2021-07-30T04:19:39.511Z"
   },
   {
    "duration": 18,
    "start_time": "2021-07-30T04:19:39.528Z"
   },
   {
    "duration": 46,
    "start_time": "2021-07-30T04:19:39.549Z"
   },
   {
    "duration": 6,
    "start_time": "2021-07-30T04:19:39.597Z"
   },
   {
    "duration": 19,
    "start_time": "2021-07-30T04:19:39.605Z"
   },
   {
    "duration": 333,
    "start_time": "2021-07-30T04:19:39.626Z"
   },
   {
    "duration": 230,
    "start_time": "2021-07-30T04:19:39.962Z"
   },
   {
    "duration": 5,
    "start_time": "2021-07-30T04:19:40.195Z"
   },
   {
    "duration": 21,
    "start_time": "2021-07-30T04:19:40.202Z"
   },
   {
    "duration": 9,
    "start_time": "2021-07-30T04:19:40.225Z"
   },
   {
    "duration": 16,
    "start_time": "2021-07-30T04:19:40.236Z"
   },
   {
    "duration": 14,
    "start_time": "2021-07-30T04:19:40.254Z"
   },
   {
    "duration": 5,
    "start_time": "2021-07-30T04:19:40.288Z"
   },
   {
    "duration": 22,
    "start_time": "2021-07-30T04:19:40.296Z"
   },
   {
    "duration": 19,
    "start_time": "2021-07-30T04:19:40.320Z"
   },
   {
    "duration": 7,
    "start_time": "2021-07-30T04:19:40.341Z"
   },
   {
    "duration": 19,
    "start_time": "2021-07-30T04:19:40.350Z"
   }
  ],
  "kernelspec": {
   "display_name": "Python 3",
   "language": "python",
   "name": "python3"
  },
  "language_info": {
   "codemirror_mode": {
    "name": "ipython",
    "version": 3
   },
   "file_extension": ".py",
   "mimetype": "text/x-python",
   "name": "python",
   "nbconvert_exporter": "python",
   "pygments_lexer": "ipython3",
   "version": "3.7.8"
  },
  "toc": {
   "base_numbering": 1,
   "nav_menu": {},
   "number_sections": true,
   "sideBar": true,
   "skip_h1_title": true,
   "title_cell": "Table of Contents",
   "title_sidebar": "Contents",
   "toc_cell": false,
   "toc_position": {},
   "toc_section_display": true,
   "toc_window_display": false
  }
 },
 "nbformat": 4,
 "nbformat_minor": 2
}
